{
  "cells": [
    {
      "cell_type": "code",
      "source": [
        "import pandas as pd\n",
        "import numpy as np\n",
        "from sklearn.model_selection import train_test_split\n",
        "from sklearn.preprocessing import StandardScaler, LabelEncoder\n",
        "from sklearn.feature_selection import SelectKBest, f_classif\n",
        "from sklearn.model_selection import GridSearchCV\n",
        "from sklearn.metrics import classification_report\n",
        "from sklearn.ensemble import RandomForestClassifier\n",
        "from sklearn import metrics\n",
        "from sklearn.svm import SVC\n",
        "from sklearn.decomposition import PCA\n",
        "from sklearn.pipeline import Pipeline\n",
        "from sklearn.model_selection import cross_val_score\n",
        "from xgboost import XGBClassifier\n",
        "import pickle"
      ],
      "metadata": {
        "id": "ymQdzAihkMEb"
      },
      "execution_count": null,
      "outputs": []
    },
    {
      "cell_type": "code",
      "execution_count": null,
      "metadata": {
        "colab": {
          "base_uri": "https://localhost:8080/"
        },
        "id": "Kp57gqxndnRZ",
        "outputId": "d9f9a1e5-38b9-42f2-e7ea-0028a9793eaf"
      },
      "outputs": [
        {
          "output_type": "stream",
          "name": "stdout",
          "text": [
            "Mounted at /content/drive\n"
          ]
        }
      ],
      "source": [
        "from google.colab import drive\n",
        "MOUNT_PATH='/content/drive'\n",
        "drive.mount(MOUNT_PATH)"
      ]
    },
    {
      "cell_type": "code",
      "source": [
        "WORKING_DIR=f\"{MOUNT_PATH}/MyDrive/FYP_Research_Work/dataset/CustomYogaPosesDataset\""
      ],
      "metadata": {
        "id": "AhCog4eGkIU0"
      },
      "execution_count": null,
      "outputs": []
    },
    {
      "cell_type": "code",
      "source": [
        "data = pd.read_csv(f\"{WORKING_DIR}/keypoint_dataset_new.csv\")\n",
        "data.head()"
      ],
      "metadata": {
        "colab": {
          "base_uri": "https://localhost:8080/",
          "height": 255
        },
        "id": "nAgoP59qkYsx",
        "outputId": "d9753639-4681-42b8-d838-008cb738dca2"
      },
      "execution_count": null,
      "outputs": [
        {
          "output_type": "execute_result",
          "data": {
            "text/plain": [
              "       k1_x      k1_y      k1_p      k2_x      k2_y      k2_p      k3_x  \\\n",
              "0  0.248363  0.988875  0.749154  0.222718  0.962208  0.680954  0.221534   \n",
              "1  0.319011  0.980275  0.744329  0.308862  0.951305  0.517245  0.309322   \n",
              "2  0.286038  0.972985  0.829567  0.281545  0.941433  0.726869  0.280697   \n",
              "3  0.507017  0.983977  0.774683  0.487512  0.955939  0.804198  0.488540   \n",
              "4  0.224236  0.030090  0.782850  0.194544  0.057158  0.870040  0.193511   \n",
              "\n",
              "       k3_y      k3_p      k4_x  ...     k15_x     k15_y     k15_p     k16_x  \\\n",
              "0  0.961254  0.729572  0.265502  ...  0.692126  0.067509  0.877089  0.270551   \n",
              "1  0.951718  0.581457  0.376711  ...  0.646815  0.032957  0.935496  0.340087   \n",
              "2  0.944313  0.764036  0.356777  ...  0.715659  0.025231  0.883431  0.376844   \n",
              "3  0.956600  0.666367  0.519918  ...  0.554976  0.099207  0.852644  0.291220   \n",
              "4  0.052705  0.880403  0.260465  ...  0.660984  0.853596  0.524160  0.353623   \n",
              "\n",
              "      k16_y     k16_p     k17_x     k17_y     k17_p  Class  \n",
              "0  0.233796  0.394278  0.275390  0.167830  0.307971    Bow  \n",
              "1  0.272476  0.605018  0.328719  0.255500  0.478043    Bow  \n",
              "2  0.286950  0.711141  0.363921  0.284849  0.335781    Bow  \n",
              "3  0.350245  0.422425  0.256430  0.385976  0.579248    Bow  \n",
              "4  0.823096  0.464320  0.350177  0.805742  0.345975    Bow  \n",
              "\n",
              "[5 rows x 52 columns]"
            ],
            "text/html": [
              "\n",
              "  <div id=\"df-e68af8f1-2f51-4fbb-915b-ee3ab1f5673c\" class=\"colab-df-container\">\n",
              "    <div>\n",
              "<style scoped>\n",
              "    .dataframe tbody tr th:only-of-type {\n",
              "        vertical-align: middle;\n",
              "    }\n",
              "\n",
              "    .dataframe tbody tr th {\n",
              "        vertical-align: top;\n",
              "    }\n",
              "\n",
              "    .dataframe thead th {\n",
              "        text-align: right;\n",
              "    }\n",
              "</style>\n",
              "<table border=\"1\" class=\"dataframe\">\n",
              "  <thead>\n",
              "    <tr style=\"text-align: right;\">\n",
              "      <th></th>\n",
              "      <th>k1_x</th>\n",
              "      <th>k1_y</th>\n",
              "      <th>k1_p</th>\n",
              "      <th>k2_x</th>\n",
              "      <th>k2_y</th>\n",
              "      <th>k2_p</th>\n",
              "      <th>k3_x</th>\n",
              "      <th>k3_y</th>\n",
              "      <th>k3_p</th>\n",
              "      <th>k4_x</th>\n",
              "      <th>...</th>\n",
              "      <th>k15_x</th>\n",
              "      <th>k15_y</th>\n",
              "      <th>k15_p</th>\n",
              "      <th>k16_x</th>\n",
              "      <th>k16_y</th>\n",
              "      <th>k16_p</th>\n",
              "      <th>k17_x</th>\n",
              "      <th>k17_y</th>\n",
              "      <th>k17_p</th>\n",
              "      <th>Class</th>\n",
              "    </tr>\n",
              "  </thead>\n",
              "  <tbody>\n",
              "    <tr>\n",
              "      <th>0</th>\n",
              "      <td>0.248363</td>\n",
              "      <td>0.988875</td>\n",
              "      <td>0.749154</td>\n",
              "      <td>0.222718</td>\n",
              "      <td>0.962208</td>\n",
              "      <td>0.680954</td>\n",
              "      <td>0.221534</td>\n",
              "      <td>0.961254</td>\n",
              "      <td>0.729572</td>\n",
              "      <td>0.265502</td>\n",
              "      <td>...</td>\n",
              "      <td>0.692126</td>\n",
              "      <td>0.067509</td>\n",
              "      <td>0.877089</td>\n",
              "      <td>0.270551</td>\n",
              "      <td>0.233796</td>\n",
              "      <td>0.394278</td>\n",
              "      <td>0.275390</td>\n",
              "      <td>0.167830</td>\n",
              "      <td>0.307971</td>\n",
              "      <td>Bow</td>\n",
              "    </tr>\n",
              "    <tr>\n",
              "      <th>1</th>\n",
              "      <td>0.319011</td>\n",
              "      <td>0.980275</td>\n",
              "      <td>0.744329</td>\n",
              "      <td>0.308862</td>\n",
              "      <td>0.951305</td>\n",
              "      <td>0.517245</td>\n",
              "      <td>0.309322</td>\n",
              "      <td>0.951718</td>\n",
              "      <td>0.581457</td>\n",
              "      <td>0.376711</td>\n",
              "      <td>...</td>\n",
              "      <td>0.646815</td>\n",
              "      <td>0.032957</td>\n",
              "      <td>0.935496</td>\n",
              "      <td>0.340087</td>\n",
              "      <td>0.272476</td>\n",
              "      <td>0.605018</td>\n",
              "      <td>0.328719</td>\n",
              "      <td>0.255500</td>\n",
              "      <td>0.478043</td>\n",
              "      <td>Bow</td>\n",
              "    </tr>\n",
              "    <tr>\n",
              "      <th>2</th>\n",
              "      <td>0.286038</td>\n",
              "      <td>0.972985</td>\n",
              "      <td>0.829567</td>\n",
              "      <td>0.281545</td>\n",
              "      <td>0.941433</td>\n",
              "      <td>0.726869</td>\n",
              "      <td>0.280697</td>\n",
              "      <td>0.944313</td>\n",
              "      <td>0.764036</td>\n",
              "      <td>0.356777</td>\n",
              "      <td>...</td>\n",
              "      <td>0.715659</td>\n",
              "      <td>0.025231</td>\n",
              "      <td>0.883431</td>\n",
              "      <td>0.376844</td>\n",
              "      <td>0.286950</td>\n",
              "      <td>0.711141</td>\n",
              "      <td>0.363921</td>\n",
              "      <td>0.284849</td>\n",
              "      <td>0.335781</td>\n",
              "      <td>Bow</td>\n",
              "    </tr>\n",
              "    <tr>\n",
              "      <th>3</th>\n",
              "      <td>0.507017</td>\n",
              "      <td>0.983977</td>\n",
              "      <td>0.774683</td>\n",
              "      <td>0.487512</td>\n",
              "      <td>0.955939</td>\n",
              "      <td>0.804198</td>\n",
              "      <td>0.488540</td>\n",
              "      <td>0.956600</td>\n",
              "      <td>0.666367</td>\n",
              "      <td>0.519918</td>\n",
              "      <td>...</td>\n",
              "      <td>0.554976</td>\n",
              "      <td>0.099207</td>\n",
              "      <td>0.852644</td>\n",
              "      <td>0.291220</td>\n",
              "      <td>0.350245</td>\n",
              "      <td>0.422425</td>\n",
              "      <td>0.256430</td>\n",
              "      <td>0.385976</td>\n",
              "      <td>0.579248</td>\n",
              "      <td>Bow</td>\n",
              "    </tr>\n",
              "    <tr>\n",
              "      <th>4</th>\n",
              "      <td>0.224236</td>\n",
              "      <td>0.030090</td>\n",
              "      <td>0.782850</td>\n",
              "      <td>0.194544</td>\n",
              "      <td>0.057158</td>\n",
              "      <td>0.870040</td>\n",
              "      <td>0.193511</td>\n",
              "      <td>0.052705</td>\n",
              "      <td>0.880403</td>\n",
              "      <td>0.260465</td>\n",
              "      <td>...</td>\n",
              "      <td>0.660984</td>\n",
              "      <td>0.853596</td>\n",
              "      <td>0.524160</td>\n",
              "      <td>0.353623</td>\n",
              "      <td>0.823096</td>\n",
              "      <td>0.464320</td>\n",
              "      <td>0.350177</td>\n",
              "      <td>0.805742</td>\n",
              "      <td>0.345975</td>\n",
              "      <td>Bow</td>\n",
              "    </tr>\n",
              "  </tbody>\n",
              "</table>\n",
              "<p>5 rows × 52 columns</p>\n",
              "</div>\n",
              "    <div class=\"colab-df-buttons\">\n",
              "\n",
              "  <div class=\"colab-df-container\">\n",
              "    <button class=\"colab-df-convert\" onclick=\"convertToInteractive('df-e68af8f1-2f51-4fbb-915b-ee3ab1f5673c')\"\n",
              "            title=\"Convert this dataframe to an interactive table.\"\n",
              "            style=\"display:none;\">\n",
              "\n",
              "  <svg xmlns=\"http://www.w3.org/2000/svg\" height=\"24px\" viewBox=\"0 -960 960 960\">\n",
              "    <path d=\"M120-120v-720h720v720H120Zm60-500h600v-160H180v160Zm220 220h160v-160H400v160Zm0 220h160v-160H400v160ZM180-400h160v-160H180v160Zm440 0h160v-160H620v160ZM180-180h160v-160H180v160Zm440 0h160v-160H620v160Z\"/>\n",
              "  </svg>\n",
              "    </button>\n",
              "\n",
              "  <style>\n",
              "    .colab-df-container {\n",
              "      display:flex;\n",
              "      gap: 12px;\n",
              "    }\n",
              "\n",
              "    .colab-df-convert {\n",
              "      background-color: #E8F0FE;\n",
              "      border: none;\n",
              "      border-radius: 50%;\n",
              "      cursor: pointer;\n",
              "      display: none;\n",
              "      fill: #1967D2;\n",
              "      height: 32px;\n",
              "      padding: 0 0 0 0;\n",
              "      width: 32px;\n",
              "    }\n",
              "\n",
              "    .colab-df-convert:hover {\n",
              "      background-color: #E2EBFA;\n",
              "      box-shadow: 0px 1px 2px rgba(60, 64, 67, 0.3), 0px 1px 3px 1px rgba(60, 64, 67, 0.15);\n",
              "      fill: #174EA6;\n",
              "    }\n",
              "\n",
              "    .colab-df-buttons div {\n",
              "      margin-bottom: 4px;\n",
              "    }\n",
              "\n",
              "    [theme=dark] .colab-df-convert {\n",
              "      background-color: #3B4455;\n",
              "      fill: #D2E3FC;\n",
              "    }\n",
              "\n",
              "    [theme=dark] .colab-df-convert:hover {\n",
              "      background-color: #434B5C;\n",
              "      box-shadow: 0px 1px 3px 1px rgba(0, 0, 0, 0.15);\n",
              "      filter: drop-shadow(0px 1px 2px rgba(0, 0, 0, 0.3));\n",
              "      fill: #FFFFFF;\n",
              "    }\n",
              "  </style>\n",
              "\n",
              "    <script>\n",
              "      const buttonEl =\n",
              "        document.querySelector('#df-e68af8f1-2f51-4fbb-915b-ee3ab1f5673c button.colab-df-convert');\n",
              "      buttonEl.style.display =\n",
              "        google.colab.kernel.accessAllowed ? 'block' : 'none';\n",
              "\n",
              "      async function convertToInteractive(key) {\n",
              "        const element = document.querySelector('#df-e68af8f1-2f51-4fbb-915b-ee3ab1f5673c');\n",
              "        const dataTable =\n",
              "          await google.colab.kernel.invokeFunction('convertToInteractive',\n",
              "                                                    [key], {});\n",
              "        if (!dataTable) return;\n",
              "\n",
              "        const docLinkHtml = 'Like what you see? Visit the ' +\n",
              "          '<a target=\"_blank\" href=https://colab.research.google.com/notebooks/data_table.ipynb>data table notebook</a>'\n",
              "          + ' to learn more about interactive tables.';\n",
              "        element.innerHTML = '';\n",
              "        dataTable['output_type'] = 'display_data';\n",
              "        await google.colab.output.renderOutput(dataTable, element);\n",
              "        const docLink = document.createElement('div');\n",
              "        docLink.innerHTML = docLinkHtml;\n",
              "        element.appendChild(docLink);\n",
              "      }\n",
              "    </script>\n",
              "  </div>\n",
              "\n",
              "\n",
              "<div id=\"df-93202459-67a6-43a7-9393-2739bd4f1555\">\n",
              "  <button class=\"colab-df-quickchart\" onclick=\"quickchart('df-93202459-67a6-43a7-9393-2739bd4f1555')\"\n",
              "            title=\"Suggest charts\"\n",
              "            style=\"display:none;\">\n",
              "\n",
              "<svg xmlns=\"http://www.w3.org/2000/svg\" height=\"24px\"viewBox=\"0 0 24 24\"\n",
              "     width=\"24px\">\n",
              "    <g>\n",
              "        <path d=\"M19 3H5c-1.1 0-2 .9-2 2v14c0 1.1.9 2 2 2h14c1.1 0 2-.9 2-2V5c0-1.1-.9-2-2-2zM9 17H7v-7h2v7zm4 0h-2V7h2v10zm4 0h-2v-4h2v4z\"/>\n",
              "    </g>\n",
              "</svg>\n",
              "  </button>\n",
              "\n",
              "<style>\n",
              "  .colab-df-quickchart {\n",
              "      --bg-color: #E8F0FE;\n",
              "      --fill-color: #1967D2;\n",
              "      --hover-bg-color: #E2EBFA;\n",
              "      --hover-fill-color: #174EA6;\n",
              "      --disabled-fill-color: #AAA;\n",
              "      --disabled-bg-color: #DDD;\n",
              "  }\n",
              "\n",
              "  [theme=dark] .colab-df-quickchart {\n",
              "      --bg-color: #3B4455;\n",
              "      --fill-color: #D2E3FC;\n",
              "      --hover-bg-color: #434B5C;\n",
              "      --hover-fill-color: #FFFFFF;\n",
              "      --disabled-bg-color: #3B4455;\n",
              "      --disabled-fill-color: #666;\n",
              "  }\n",
              "\n",
              "  .colab-df-quickchart {\n",
              "    background-color: var(--bg-color);\n",
              "    border: none;\n",
              "    border-radius: 50%;\n",
              "    cursor: pointer;\n",
              "    display: none;\n",
              "    fill: var(--fill-color);\n",
              "    height: 32px;\n",
              "    padding: 0;\n",
              "    width: 32px;\n",
              "  }\n",
              "\n",
              "  .colab-df-quickchart:hover {\n",
              "    background-color: var(--hover-bg-color);\n",
              "    box-shadow: 0 1px 2px rgba(60, 64, 67, 0.3), 0 1px 3px 1px rgba(60, 64, 67, 0.15);\n",
              "    fill: var(--button-hover-fill-color);\n",
              "  }\n",
              "\n",
              "  .colab-df-quickchart-complete:disabled,\n",
              "  .colab-df-quickchart-complete:disabled:hover {\n",
              "    background-color: var(--disabled-bg-color);\n",
              "    fill: var(--disabled-fill-color);\n",
              "    box-shadow: none;\n",
              "  }\n",
              "\n",
              "  .colab-df-spinner {\n",
              "    border: 2px solid var(--fill-color);\n",
              "    border-color: transparent;\n",
              "    border-bottom-color: var(--fill-color);\n",
              "    animation:\n",
              "      spin 1s steps(1) infinite;\n",
              "  }\n",
              "\n",
              "  @keyframes spin {\n",
              "    0% {\n",
              "      border-color: transparent;\n",
              "      border-bottom-color: var(--fill-color);\n",
              "      border-left-color: var(--fill-color);\n",
              "    }\n",
              "    20% {\n",
              "      border-color: transparent;\n",
              "      border-left-color: var(--fill-color);\n",
              "      border-top-color: var(--fill-color);\n",
              "    }\n",
              "    30% {\n",
              "      border-color: transparent;\n",
              "      border-left-color: var(--fill-color);\n",
              "      border-top-color: var(--fill-color);\n",
              "      border-right-color: var(--fill-color);\n",
              "    }\n",
              "    40% {\n",
              "      border-color: transparent;\n",
              "      border-right-color: var(--fill-color);\n",
              "      border-top-color: var(--fill-color);\n",
              "    }\n",
              "    60% {\n",
              "      border-color: transparent;\n",
              "      border-right-color: var(--fill-color);\n",
              "    }\n",
              "    80% {\n",
              "      border-color: transparent;\n",
              "      border-right-color: var(--fill-color);\n",
              "      border-bottom-color: var(--fill-color);\n",
              "    }\n",
              "    90% {\n",
              "      border-color: transparent;\n",
              "      border-bottom-color: var(--fill-color);\n",
              "    }\n",
              "  }\n",
              "</style>\n",
              "\n",
              "  <script>\n",
              "    async function quickchart(key) {\n",
              "      const quickchartButtonEl =\n",
              "        document.querySelector('#' + key + ' button');\n",
              "      quickchartButtonEl.disabled = true;  // To prevent multiple clicks.\n",
              "      quickchartButtonEl.classList.add('colab-df-spinner');\n",
              "      try {\n",
              "        const charts = await google.colab.kernel.invokeFunction(\n",
              "            'suggestCharts', [key], {});\n",
              "      } catch (error) {\n",
              "        console.error('Error during call to suggestCharts:', error);\n",
              "      }\n",
              "      quickchartButtonEl.classList.remove('colab-df-spinner');\n",
              "      quickchartButtonEl.classList.add('colab-df-quickchart-complete');\n",
              "    }\n",
              "    (() => {\n",
              "      let quickchartButtonEl =\n",
              "        document.querySelector('#df-93202459-67a6-43a7-9393-2739bd4f1555 button');\n",
              "      quickchartButtonEl.style.display =\n",
              "        google.colab.kernel.accessAllowed ? 'block' : 'none';\n",
              "    })();\n",
              "  </script>\n",
              "</div>\n",
              "    </div>\n",
              "  </div>\n"
            ]
          },
          "metadata": {},
          "execution_count": 10
        }
      ]
    },
    {
      "cell_type": "code",
      "source": [
        "\n",
        "# Use value_counts to get the count of each unique value in the 'class' column\n",
        "class_counts = data['Class'].value_counts()\n",
        "\n",
        "# Print the number of different classes and the count of datapoints for each class\n",
        "print(\"Number of different classes:\", len(class_counts))\n",
        "print(\"\\nCount of datapoints for each class:\")\n",
        "print(class_counts)\n"
      ],
      "metadata": {
        "colab": {
          "base_uri": "https://localhost:8080/"
        },
        "id": "Lna3qvmGklc4",
        "outputId": "779ced2e-8a64-4a6a-d6b6-bcfbe833f1f5"
      },
      "execution_count": null,
      "outputs": [
        {
          "output_type": "stream",
          "name": "stdout",
          "text": [
            "Number of different classes: 21\n",
            "\n",
            "Count of datapoints for each class:\n",
            "Cow                                  57\n",
            "Wheel                                56\n",
            "Camel                                56\n",
            "Warrior Two                          56\n",
            "Upward-Facing Dog                    55\n",
            "Crow                                 54\n",
            "Side Plank                           54\n",
            "Forward Bend with Shoulder Opener    53\n",
            "Bridge                               53\n",
            "Extended Side Angle                  52\n",
            "Tree                                 50\n",
            "Warrior One                          50\n",
            "Shoulder Stand                       49\n",
            "Warrior Three                        47\n",
            "Bow                                  47\n",
            "Plank                                47\n",
            "Half-Moon                            46\n",
            "Extended Hand to Toe                 46\n",
            "Sphinx                               45\n",
            "Cat                                  43\n",
            "Low Lunge                            43\n",
            "Name: Class, dtype: int64\n"
          ]
        }
      ]
    },
    {
      "cell_type": "code",
      "source": [
        "X = data.drop(columns=['Class'])\n",
        "Y = data['Class']"
      ],
      "metadata": {
        "id": "v9pYvp8olAqN"
      },
      "execution_count": null,
      "outputs": []
    },
    {
      "cell_type": "code",
      "source": [
        "X_train, X_valid, y_train, y_valid = train_test_split(X, Y, test_size=0.2, random_state=42)"
      ],
      "metadata": {
        "id": "AgGyub1JkyUH"
      },
      "execution_count": null,
      "outputs": []
    },
    {
      "cell_type": "code",
      "source": [
        "X_train"
      ],
      "metadata": {
        "colab": {
          "base_uri": "https://localhost:8080/",
          "height": 443
        },
        "id": "8cEW-sEG7RKM",
        "outputId": "0055bf54-9f97-4ce9-a28e-774952e02aa7"
      },
      "execution_count": null,
      "outputs": [
        {
          "output_type": "execute_result",
          "data": {
            "text/plain": [
              "          k1_x      k1_y      k1_p      k2_x      k2_y      k2_p      k3_x  \\\n",
              "331   0.096584  0.621855  0.833973  0.080050  0.640502  0.724018  0.076904   \n",
              "44    0.491671  0.126696  0.136636  0.459802  0.123073  0.241004  0.459493   \n",
              "307   0.729738  0.304276  0.682489  0.712803  0.286931  0.816269  0.713763   \n",
              "323   0.100845  0.353371  0.901726  0.079737  0.371075  0.669280  0.077063   \n",
              "1009  0.445297  0.922846  0.535923  0.465667  0.906631  0.631968  0.467438   \n",
              "...        ...       ...       ...       ...       ...       ...       ...   \n",
              "330   0.141507  0.647163  0.611045  0.119610  0.665046  0.850726  0.121197   \n",
              "466   0.547243  0.069563  0.757728  0.530127  0.050601  0.761084  0.565494   \n",
              "121   0.089754  0.106167  0.608884  0.129277  0.107875  0.549608  0.128557   \n",
              "1044  0.480423  0.038391  0.747687  0.501549  0.056376  0.645997  0.500300   \n",
              "860   0.309066  0.517998  0.523844  0.296905  0.502002  0.555641  0.297412   \n",
              "\n",
              "          k3_y      k3_p      k4_x  ...     k14_p     k15_x     k15_y  \\\n",
              "331   0.636845  0.737998  0.093701  ...  0.918348  0.336473  0.433809   \n",
              "44    0.093364  0.227062  0.466824  ...  0.034181  0.594769  0.536735   \n",
              "307   0.286510  0.787554  0.654395  ...  0.821927  0.667456  0.489033   \n",
              "323   0.333716  0.816456  0.083788  ...  0.942254  0.716414  0.382389   \n",
              "1009  0.906542  0.569442  0.466882  ...  0.867792  0.399318  0.218970   \n",
              "...        ...       ...       ...  ...       ...       ...       ...   \n",
              "330   0.628039  0.592151  0.126523  ...  0.881923  0.373475  0.375650   \n",
              "466   0.063561  0.690223  0.490004  ...  0.818854  0.648036  0.442071   \n",
              "121   0.106349  0.657165  0.173459  ...  0.296557  0.910898  0.737836   \n",
              "1044  0.053673  0.715097  0.493879  ...  0.703535  0.541798  0.656502   \n",
              "860   0.496177  0.747975  0.324486  ...  0.954343  0.783718  0.347518   \n",
              "\n",
              "         k15_p     k16_x     k16_y     k16_p     k17_x     k17_y     k17_p  \n",
              "331   0.894641  0.932283  0.648071  0.906676  0.253058  0.222607  0.782247  \n",
              "44    0.078319  0.562474  0.609822  0.050201  0.538600  0.551654  0.072901  \n",
              "307   0.657485  0.584305  0.700092  0.768742  0.583252  0.694109  0.728086  \n",
              "323   0.929647  0.149895  0.811074  0.643243  0.927168  0.421633  0.953900  \n",
              "1009  0.926082  0.700477  0.268634  0.825691  0.668455  0.263736  0.779650  \n",
              "...        ...       ...       ...       ...       ...       ...       ...  \n",
              "330   0.599598  0.942979  0.576519  0.872164  0.257645  0.197467  0.655249  \n",
              "466   0.892190  0.224754  0.911937  0.625169  0.877192  0.435545  0.817403  \n",
              "121   0.615029  0.784760  0.373591  0.462166  0.903696  0.328683  0.620171  \n",
              "1044  0.699382  0.738796  0.851115  0.760085  0.713137  0.818105  0.467676  \n",
              "860   0.851622  0.908526  0.722237  0.938191  0.925297  0.204957  0.926052  \n",
              "\n",
              "[847 rows x 51 columns]"
            ],
            "text/html": [
              "\n",
              "  <div id=\"df-d413c2b4-acbb-462b-a49a-9eb7f005aa95\" class=\"colab-df-container\">\n",
              "    <div>\n",
              "<style scoped>\n",
              "    .dataframe tbody tr th:only-of-type {\n",
              "        vertical-align: middle;\n",
              "    }\n",
              "\n",
              "    .dataframe tbody tr th {\n",
              "        vertical-align: top;\n",
              "    }\n",
              "\n",
              "    .dataframe thead th {\n",
              "        text-align: right;\n",
              "    }\n",
              "</style>\n",
              "<table border=\"1\" class=\"dataframe\">\n",
              "  <thead>\n",
              "    <tr style=\"text-align: right;\">\n",
              "      <th></th>\n",
              "      <th>k1_x</th>\n",
              "      <th>k1_y</th>\n",
              "      <th>k1_p</th>\n",
              "      <th>k2_x</th>\n",
              "      <th>k2_y</th>\n",
              "      <th>k2_p</th>\n",
              "      <th>k3_x</th>\n",
              "      <th>k3_y</th>\n",
              "      <th>k3_p</th>\n",
              "      <th>k4_x</th>\n",
              "      <th>...</th>\n",
              "      <th>k14_p</th>\n",
              "      <th>k15_x</th>\n",
              "      <th>k15_y</th>\n",
              "      <th>k15_p</th>\n",
              "      <th>k16_x</th>\n",
              "      <th>k16_y</th>\n",
              "      <th>k16_p</th>\n",
              "      <th>k17_x</th>\n",
              "      <th>k17_y</th>\n",
              "      <th>k17_p</th>\n",
              "    </tr>\n",
              "  </thead>\n",
              "  <tbody>\n",
              "    <tr>\n",
              "      <th>331</th>\n",
              "      <td>0.096584</td>\n",
              "      <td>0.621855</td>\n",
              "      <td>0.833973</td>\n",
              "      <td>0.080050</td>\n",
              "      <td>0.640502</td>\n",
              "      <td>0.724018</td>\n",
              "      <td>0.076904</td>\n",
              "      <td>0.636845</td>\n",
              "      <td>0.737998</td>\n",
              "      <td>0.093701</td>\n",
              "      <td>...</td>\n",
              "      <td>0.918348</td>\n",
              "      <td>0.336473</td>\n",
              "      <td>0.433809</td>\n",
              "      <td>0.894641</td>\n",
              "      <td>0.932283</td>\n",
              "      <td>0.648071</td>\n",
              "      <td>0.906676</td>\n",
              "      <td>0.253058</td>\n",
              "      <td>0.222607</td>\n",
              "      <td>0.782247</td>\n",
              "    </tr>\n",
              "    <tr>\n",
              "      <th>44</th>\n",
              "      <td>0.491671</td>\n",
              "      <td>0.126696</td>\n",
              "      <td>0.136636</td>\n",
              "      <td>0.459802</td>\n",
              "      <td>0.123073</td>\n",
              "      <td>0.241004</td>\n",
              "      <td>0.459493</td>\n",
              "      <td>0.093364</td>\n",
              "      <td>0.227062</td>\n",
              "      <td>0.466824</td>\n",
              "      <td>...</td>\n",
              "      <td>0.034181</td>\n",
              "      <td>0.594769</td>\n",
              "      <td>0.536735</td>\n",
              "      <td>0.078319</td>\n",
              "      <td>0.562474</td>\n",
              "      <td>0.609822</td>\n",
              "      <td>0.050201</td>\n",
              "      <td>0.538600</td>\n",
              "      <td>0.551654</td>\n",
              "      <td>0.072901</td>\n",
              "    </tr>\n",
              "    <tr>\n",
              "      <th>307</th>\n",
              "      <td>0.729738</td>\n",
              "      <td>0.304276</td>\n",
              "      <td>0.682489</td>\n",
              "      <td>0.712803</td>\n",
              "      <td>0.286931</td>\n",
              "      <td>0.816269</td>\n",
              "      <td>0.713763</td>\n",
              "      <td>0.286510</td>\n",
              "      <td>0.787554</td>\n",
              "      <td>0.654395</td>\n",
              "      <td>...</td>\n",
              "      <td>0.821927</td>\n",
              "      <td>0.667456</td>\n",
              "      <td>0.489033</td>\n",
              "      <td>0.657485</td>\n",
              "      <td>0.584305</td>\n",
              "      <td>0.700092</td>\n",
              "      <td>0.768742</td>\n",
              "      <td>0.583252</td>\n",
              "      <td>0.694109</td>\n",
              "      <td>0.728086</td>\n",
              "    </tr>\n",
              "    <tr>\n",
              "      <th>323</th>\n",
              "      <td>0.100845</td>\n",
              "      <td>0.353371</td>\n",
              "      <td>0.901726</td>\n",
              "      <td>0.079737</td>\n",
              "      <td>0.371075</td>\n",
              "      <td>0.669280</td>\n",
              "      <td>0.077063</td>\n",
              "      <td>0.333716</td>\n",
              "      <td>0.816456</td>\n",
              "      <td>0.083788</td>\n",
              "      <td>...</td>\n",
              "      <td>0.942254</td>\n",
              "      <td>0.716414</td>\n",
              "      <td>0.382389</td>\n",
              "      <td>0.929647</td>\n",
              "      <td>0.149895</td>\n",
              "      <td>0.811074</td>\n",
              "      <td>0.643243</td>\n",
              "      <td>0.927168</td>\n",
              "      <td>0.421633</td>\n",
              "      <td>0.953900</td>\n",
              "    </tr>\n",
              "    <tr>\n",
              "      <th>1009</th>\n",
              "      <td>0.445297</td>\n",
              "      <td>0.922846</td>\n",
              "      <td>0.535923</td>\n",
              "      <td>0.465667</td>\n",
              "      <td>0.906631</td>\n",
              "      <td>0.631968</td>\n",
              "      <td>0.467438</td>\n",
              "      <td>0.906542</td>\n",
              "      <td>0.569442</td>\n",
              "      <td>0.466882</td>\n",
              "      <td>...</td>\n",
              "      <td>0.867792</td>\n",
              "      <td>0.399318</td>\n",
              "      <td>0.218970</td>\n",
              "      <td>0.926082</td>\n",
              "      <td>0.700477</td>\n",
              "      <td>0.268634</td>\n",
              "      <td>0.825691</td>\n",
              "      <td>0.668455</td>\n",
              "      <td>0.263736</td>\n",
              "      <td>0.779650</td>\n",
              "    </tr>\n",
              "    <tr>\n",
              "      <th>...</th>\n",
              "      <td>...</td>\n",
              "      <td>...</td>\n",
              "      <td>...</td>\n",
              "      <td>...</td>\n",
              "      <td>...</td>\n",
              "      <td>...</td>\n",
              "      <td>...</td>\n",
              "      <td>...</td>\n",
              "      <td>...</td>\n",
              "      <td>...</td>\n",
              "      <td>...</td>\n",
              "      <td>...</td>\n",
              "      <td>...</td>\n",
              "      <td>...</td>\n",
              "      <td>...</td>\n",
              "      <td>...</td>\n",
              "      <td>...</td>\n",
              "      <td>...</td>\n",
              "      <td>...</td>\n",
              "      <td>...</td>\n",
              "      <td>...</td>\n",
              "    </tr>\n",
              "    <tr>\n",
              "      <th>330</th>\n",
              "      <td>0.141507</td>\n",
              "      <td>0.647163</td>\n",
              "      <td>0.611045</td>\n",
              "      <td>0.119610</td>\n",
              "      <td>0.665046</td>\n",
              "      <td>0.850726</td>\n",
              "      <td>0.121197</td>\n",
              "      <td>0.628039</td>\n",
              "      <td>0.592151</td>\n",
              "      <td>0.126523</td>\n",
              "      <td>...</td>\n",
              "      <td>0.881923</td>\n",
              "      <td>0.373475</td>\n",
              "      <td>0.375650</td>\n",
              "      <td>0.599598</td>\n",
              "      <td>0.942979</td>\n",
              "      <td>0.576519</td>\n",
              "      <td>0.872164</td>\n",
              "      <td>0.257645</td>\n",
              "      <td>0.197467</td>\n",
              "      <td>0.655249</td>\n",
              "    </tr>\n",
              "    <tr>\n",
              "      <th>466</th>\n",
              "      <td>0.547243</td>\n",
              "      <td>0.069563</td>\n",
              "      <td>0.757728</td>\n",
              "      <td>0.530127</td>\n",
              "      <td>0.050601</td>\n",
              "      <td>0.761084</td>\n",
              "      <td>0.565494</td>\n",
              "      <td>0.063561</td>\n",
              "      <td>0.690223</td>\n",
              "      <td>0.490004</td>\n",
              "      <td>...</td>\n",
              "      <td>0.818854</td>\n",
              "      <td>0.648036</td>\n",
              "      <td>0.442071</td>\n",
              "      <td>0.892190</td>\n",
              "      <td>0.224754</td>\n",
              "      <td>0.911937</td>\n",
              "      <td>0.625169</td>\n",
              "      <td>0.877192</td>\n",
              "      <td>0.435545</td>\n",
              "      <td>0.817403</td>\n",
              "    </tr>\n",
              "    <tr>\n",
              "      <th>121</th>\n",
              "      <td>0.089754</td>\n",
              "      <td>0.106167</td>\n",
              "      <td>0.608884</td>\n",
              "      <td>0.129277</td>\n",
              "      <td>0.107875</td>\n",
              "      <td>0.549608</td>\n",
              "      <td>0.128557</td>\n",
              "      <td>0.106349</td>\n",
              "      <td>0.657165</td>\n",
              "      <td>0.173459</td>\n",
              "      <td>...</td>\n",
              "      <td>0.296557</td>\n",
              "      <td>0.910898</td>\n",
              "      <td>0.737836</td>\n",
              "      <td>0.615029</td>\n",
              "      <td>0.784760</td>\n",
              "      <td>0.373591</td>\n",
              "      <td>0.462166</td>\n",
              "      <td>0.903696</td>\n",
              "      <td>0.328683</td>\n",
              "      <td>0.620171</td>\n",
              "    </tr>\n",
              "    <tr>\n",
              "      <th>1044</th>\n",
              "      <td>0.480423</td>\n",
              "      <td>0.038391</td>\n",
              "      <td>0.747687</td>\n",
              "      <td>0.501549</td>\n",
              "      <td>0.056376</td>\n",
              "      <td>0.645997</td>\n",
              "      <td>0.500300</td>\n",
              "      <td>0.053673</td>\n",
              "      <td>0.715097</td>\n",
              "      <td>0.493879</td>\n",
              "      <td>...</td>\n",
              "      <td>0.703535</td>\n",
              "      <td>0.541798</td>\n",
              "      <td>0.656502</td>\n",
              "      <td>0.699382</td>\n",
              "      <td>0.738796</td>\n",
              "      <td>0.851115</td>\n",
              "      <td>0.760085</td>\n",
              "      <td>0.713137</td>\n",
              "      <td>0.818105</td>\n",
              "      <td>0.467676</td>\n",
              "    </tr>\n",
              "    <tr>\n",
              "      <th>860</th>\n",
              "      <td>0.309066</td>\n",
              "      <td>0.517998</td>\n",
              "      <td>0.523844</td>\n",
              "      <td>0.296905</td>\n",
              "      <td>0.502002</td>\n",
              "      <td>0.555641</td>\n",
              "      <td>0.297412</td>\n",
              "      <td>0.496177</td>\n",
              "      <td>0.747975</td>\n",
              "      <td>0.324486</td>\n",
              "      <td>...</td>\n",
              "      <td>0.954343</td>\n",
              "      <td>0.783718</td>\n",
              "      <td>0.347518</td>\n",
              "      <td>0.851622</td>\n",
              "      <td>0.908526</td>\n",
              "      <td>0.722237</td>\n",
              "      <td>0.938191</td>\n",
              "      <td>0.925297</td>\n",
              "      <td>0.204957</td>\n",
              "      <td>0.926052</td>\n",
              "    </tr>\n",
              "  </tbody>\n",
              "</table>\n",
              "<p>847 rows × 51 columns</p>\n",
              "</div>\n",
              "    <div class=\"colab-df-buttons\">\n",
              "\n",
              "  <div class=\"colab-df-container\">\n",
              "    <button class=\"colab-df-convert\" onclick=\"convertToInteractive('df-d413c2b4-acbb-462b-a49a-9eb7f005aa95')\"\n",
              "            title=\"Convert this dataframe to an interactive table.\"\n",
              "            style=\"display:none;\">\n",
              "\n",
              "  <svg xmlns=\"http://www.w3.org/2000/svg\" height=\"24px\" viewBox=\"0 -960 960 960\">\n",
              "    <path d=\"M120-120v-720h720v720H120Zm60-500h600v-160H180v160Zm220 220h160v-160H400v160Zm0 220h160v-160H400v160ZM180-400h160v-160H180v160Zm440 0h160v-160H620v160ZM180-180h160v-160H180v160Zm440 0h160v-160H620v160Z\"/>\n",
              "  </svg>\n",
              "    </button>\n",
              "\n",
              "  <style>\n",
              "    .colab-df-container {\n",
              "      display:flex;\n",
              "      gap: 12px;\n",
              "    }\n",
              "\n",
              "    .colab-df-convert {\n",
              "      background-color: #E8F0FE;\n",
              "      border: none;\n",
              "      border-radius: 50%;\n",
              "      cursor: pointer;\n",
              "      display: none;\n",
              "      fill: #1967D2;\n",
              "      height: 32px;\n",
              "      padding: 0 0 0 0;\n",
              "      width: 32px;\n",
              "    }\n",
              "\n",
              "    .colab-df-convert:hover {\n",
              "      background-color: #E2EBFA;\n",
              "      box-shadow: 0px 1px 2px rgba(60, 64, 67, 0.3), 0px 1px 3px 1px rgba(60, 64, 67, 0.15);\n",
              "      fill: #174EA6;\n",
              "    }\n",
              "\n",
              "    .colab-df-buttons div {\n",
              "      margin-bottom: 4px;\n",
              "    }\n",
              "\n",
              "    [theme=dark] .colab-df-convert {\n",
              "      background-color: #3B4455;\n",
              "      fill: #D2E3FC;\n",
              "    }\n",
              "\n",
              "    [theme=dark] .colab-df-convert:hover {\n",
              "      background-color: #434B5C;\n",
              "      box-shadow: 0px 1px 3px 1px rgba(0, 0, 0, 0.15);\n",
              "      filter: drop-shadow(0px 1px 2px rgba(0, 0, 0, 0.3));\n",
              "      fill: #FFFFFF;\n",
              "    }\n",
              "  </style>\n",
              "\n",
              "    <script>\n",
              "      const buttonEl =\n",
              "        document.querySelector('#df-d413c2b4-acbb-462b-a49a-9eb7f005aa95 button.colab-df-convert');\n",
              "      buttonEl.style.display =\n",
              "        google.colab.kernel.accessAllowed ? 'block' : 'none';\n",
              "\n",
              "      async function convertToInteractive(key) {\n",
              "        const element = document.querySelector('#df-d413c2b4-acbb-462b-a49a-9eb7f005aa95');\n",
              "        const dataTable =\n",
              "          await google.colab.kernel.invokeFunction('convertToInteractive',\n",
              "                                                    [key], {});\n",
              "        if (!dataTable) return;\n",
              "\n",
              "        const docLinkHtml = 'Like what you see? Visit the ' +\n",
              "          '<a target=\"_blank\" href=https://colab.research.google.com/notebooks/data_table.ipynb>data table notebook</a>'\n",
              "          + ' to learn more about interactive tables.';\n",
              "        element.innerHTML = '';\n",
              "        dataTable['output_type'] = 'display_data';\n",
              "        await google.colab.output.renderOutput(dataTable, element);\n",
              "        const docLink = document.createElement('div');\n",
              "        docLink.innerHTML = docLinkHtml;\n",
              "        element.appendChild(docLink);\n",
              "      }\n",
              "    </script>\n",
              "  </div>\n",
              "\n",
              "\n",
              "<div id=\"df-638b4065-894d-464f-95ea-8f8f137934cb\">\n",
              "  <button class=\"colab-df-quickchart\" onclick=\"quickchart('df-638b4065-894d-464f-95ea-8f8f137934cb')\"\n",
              "            title=\"Suggest charts\"\n",
              "            style=\"display:none;\">\n",
              "\n",
              "<svg xmlns=\"http://www.w3.org/2000/svg\" height=\"24px\"viewBox=\"0 0 24 24\"\n",
              "     width=\"24px\">\n",
              "    <g>\n",
              "        <path d=\"M19 3H5c-1.1 0-2 .9-2 2v14c0 1.1.9 2 2 2h14c1.1 0 2-.9 2-2V5c0-1.1-.9-2-2-2zM9 17H7v-7h2v7zm4 0h-2V7h2v10zm4 0h-2v-4h2v4z\"/>\n",
              "    </g>\n",
              "</svg>\n",
              "  </button>\n",
              "\n",
              "<style>\n",
              "  .colab-df-quickchart {\n",
              "      --bg-color: #E8F0FE;\n",
              "      --fill-color: #1967D2;\n",
              "      --hover-bg-color: #E2EBFA;\n",
              "      --hover-fill-color: #174EA6;\n",
              "      --disabled-fill-color: #AAA;\n",
              "      --disabled-bg-color: #DDD;\n",
              "  }\n",
              "\n",
              "  [theme=dark] .colab-df-quickchart {\n",
              "      --bg-color: #3B4455;\n",
              "      --fill-color: #D2E3FC;\n",
              "      --hover-bg-color: #434B5C;\n",
              "      --hover-fill-color: #FFFFFF;\n",
              "      --disabled-bg-color: #3B4455;\n",
              "      --disabled-fill-color: #666;\n",
              "  }\n",
              "\n",
              "  .colab-df-quickchart {\n",
              "    background-color: var(--bg-color);\n",
              "    border: none;\n",
              "    border-radius: 50%;\n",
              "    cursor: pointer;\n",
              "    display: none;\n",
              "    fill: var(--fill-color);\n",
              "    height: 32px;\n",
              "    padding: 0;\n",
              "    width: 32px;\n",
              "  }\n",
              "\n",
              "  .colab-df-quickchart:hover {\n",
              "    background-color: var(--hover-bg-color);\n",
              "    box-shadow: 0 1px 2px rgba(60, 64, 67, 0.3), 0 1px 3px 1px rgba(60, 64, 67, 0.15);\n",
              "    fill: var(--button-hover-fill-color);\n",
              "  }\n",
              "\n",
              "  .colab-df-quickchart-complete:disabled,\n",
              "  .colab-df-quickchart-complete:disabled:hover {\n",
              "    background-color: var(--disabled-bg-color);\n",
              "    fill: var(--disabled-fill-color);\n",
              "    box-shadow: none;\n",
              "  }\n",
              "\n",
              "  .colab-df-spinner {\n",
              "    border: 2px solid var(--fill-color);\n",
              "    border-color: transparent;\n",
              "    border-bottom-color: var(--fill-color);\n",
              "    animation:\n",
              "      spin 1s steps(1) infinite;\n",
              "  }\n",
              "\n",
              "  @keyframes spin {\n",
              "    0% {\n",
              "      border-color: transparent;\n",
              "      border-bottom-color: var(--fill-color);\n",
              "      border-left-color: var(--fill-color);\n",
              "    }\n",
              "    20% {\n",
              "      border-color: transparent;\n",
              "      border-left-color: var(--fill-color);\n",
              "      border-top-color: var(--fill-color);\n",
              "    }\n",
              "    30% {\n",
              "      border-color: transparent;\n",
              "      border-left-color: var(--fill-color);\n",
              "      border-top-color: var(--fill-color);\n",
              "      border-right-color: var(--fill-color);\n",
              "    }\n",
              "    40% {\n",
              "      border-color: transparent;\n",
              "      border-right-color: var(--fill-color);\n",
              "      border-top-color: var(--fill-color);\n",
              "    }\n",
              "    60% {\n",
              "      border-color: transparent;\n",
              "      border-right-color: var(--fill-color);\n",
              "    }\n",
              "    80% {\n",
              "      border-color: transparent;\n",
              "      border-right-color: var(--fill-color);\n",
              "      border-bottom-color: var(--fill-color);\n",
              "    }\n",
              "    90% {\n",
              "      border-color: transparent;\n",
              "      border-bottom-color: var(--fill-color);\n",
              "    }\n",
              "  }\n",
              "</style>\n",
              "\n",
              "  <script>\n",
              "    async function quickchart(key) {\n",
              "      const quickchartButtonEl =\n",
              "        document.querySelector('#' + key + ' button');\n",
              "      quickchartButtonEl.disabled = true;  // To prevent multiple clicks.\n",
              "      quickchartButtonEl.classList.add('colab-df-spinner');\n",
              "      try {\n",
              "        const charts = await google.colab.kernel.invokeFunction(\n",
              "            'suggestCharts', [key], {});\n",
              "      } catch (error) {\n",
              "        console.error('Error during call to suggestCharts:', error);\n",
              "      }\n",
              "      quickchartButtonEl.classList.remove('colab-df-spinner');\n",
              "      quickchartButtonEl.classList.add('colab-df-quickchart-complete');\n",
              "    }\n",
              "    (() => {\n",
              "      let quickchartButtonEl =\n",
              "        document.querySelector('#df-638b4065-894d-464f-95ea-8f8f137934cb button');\n",
              "      quickchartButtonEl.style.display =\n",
              "        google.colab.kernel.accessAllowed ? 'block' : 'none';\n",
              "    })();\n",
              "  </script>\n",
              "</div>\n",
              "    </div>\n",
              "  </div>\n"
            ]
          },
          "metadata": {},
          "execution_count": 14
        }
      ]
    },
    {
      "cell_type": "code",
      "source": [
        "X_train.iloc[0]"
      ],
      "metadata": {
        "colab": {
          "base_uri": "https://localhost:8080/"
        },
        "id": "RuNoAq1H9QgG",
        "outputId": "a08e5c9c-261b-4b75-a288-c26bf84664e4"
      },
      "execution_count": null,
      "outputs": [
        {
          "output_type": "execute_result",
          "data": {
            "text/plain": [
              "k1_x     0.096584\n",
              "k1_y     0.621855\n",
              "k1_p     0.833973\n",
              "k2_x     0.080050\n",
              "k2_y     0.640502\n",
              "k2_p     0.724018\n",
              "k3_x     0.076904\n",
              "k3_y     0.636845\n",
              "k3_p     0.737998\n",
              "k4_x     0.093701\n",
              "k4_y     0.696285\n",
              "k4_p     0.834298\n",
              "k5_x     0.088340\n",
              "k5_y     0.688931\n",
              "k5_p     0.827541\n",
              "k6_x     0.204414\n",
              "k6_y     0.750159\n",
              "k6_p     0.916794\n",
              "k7_x     0.178667\n",
              "k7_y     0.617596\n",
              "k7_p     0.620026\n",
              "k8_x     0.345318\n",
              "k8_y     0.809331\n",
              "k8_p     0.942531\n",
              "k9_x     0.185166\n",
              "k9_y     0.455999\n",
              "k9_p     0.772330\n",
              "k10_x    0.424565\n",
              "k10_y    0.691492\n",
              "k10_p    0.826326\n",
              "k11_x    0.176570\n",
              "k11_y    0.311771\n",
              "k11_p    0.899527\n",
              "k12_x    0.466827\n",
              "k12_y    0.643310\n",
              "k12_p    0.852040\n",
              "k13_x    0.428260\n",
              "k13_y    0.598103\n",
              "k13_p    0.880925\n",
              "k14_x    0.705478\n",
              "k14_y    0.633976\n",
              "k14_p    0.918348\n",
              "k15_x    0.336473\n",
              "k15_y    0.433809\n",
              "k15_p    0.894641\n",
              "k16_x    0.932283\n",
              "k16_y    0.648071\n",
              "k16_p    0.906676\n",
              "k17_x    0.253058\n",
              "k17_y    0.222607\n",
              "k17_p    0.782247\n",
              "Name: 331, dtype: float64"
            ]
          },
          "metadata": {},
          "execution_count": 15
        }
      ]
    },
    {
      "cell_type": "code",
      "source": [
        "X_valid"
      ],
      "metadata": {
        "colab": {
          "base_uri": "https://localhost:8080/",
          "height": 443
        },
        "id": "GwVR0oSmlO2d",
        "outputId": "1306c3c4-6067-46d8-ff2f-cddf5e54c70d"
      },
      "execution_count": null,
      "outputs": [
        {
          "output_type": "execute_result",
          "data": {
            "text/plain": [
              "         k1_x      k1_y      k1_p      k2_x      k2_y      k2_p      k3_x  \\\n",
              "576  0.522771  0.911949  0.609212  0.503894  0.921883  0.613233  0.501511   \n",
              "312  0.186113  0.516202  0.632114  0.171749  0.532401  0.773987  0.170401   \n",
              "70   0.514455  0.153359  0.677294  0.533465  0.127323  0.603322  0.540741   \n",
              "682  0.420179  0.143992  0.679242  0.414045  0.130108  0.952725  0.439726   \n",
              "896  0.271319  0.381479  0.849420  0.284950  0.365035  0.854822  0.290155   \n",
              "..        ...       ...       ...       ...       ...       ...       ...   \n",
              "55   0.543216  0.833646  0.605873  0.560792  0.860739  0.671531  0.557092   \n",
              "120  0.034036  0.173029  0.560722  0.067948  0.169069  0.615779  0.065832   \n",
              "533  0.295526  0.442879  0.817816  0.292307  0.472638  0.800647  0.291403   \n",
              "25   0.304258  0.015514  0.807599  0.270565  0.031674  0.742549  0.268325   \n",
              "72   0.516932  0.195194  0.622272  0.530033  0.175309  0.510965  0.531272   \n",
              "\n",
              "         k3_y      k3_p      k4_x  ...     k14_p     k15_x     k15_y  \\\n",
              "576  0.920926  0.499995  0.459458  ...  0.708835  0.495830  0.311953   \n",
              "312  0.519519  0.796785  0.183869  ...  0.921476  0.315532  0.284798   \n",
              "70   0.120422  0.822288  0.602968  ...  0.497668  0.283159  0.978568   \n",
              "682  0.112617  0.898974  0.436778  ...  0.774842  0.777850  0.705085   \n",
              "896  0.359745  0.822169  0.342994  ...  0.898557  0.779433  0.323461   \n",
              "..        ...       ...       ...  ...       ...       ...       ...   \n",
              "55   0.861066  0.806034  0.637639  ...  0.692421  0.297262  0.187714   \n",
              "120  0.172260  0.563783  0.131554  ...  0.433718  0.960655  0.746873   \n",
              "533  0.466538  0.581968  0.336509  ...  0.881417  0.920633  0.616483   \n",
              "25   0.032307  0.752679  0.306534  ...  0.725609  0.628634  0.918885   \n",
              "72   0.174736  0.612127  0.579858  ...  0.784863  0.374178  0.709720   \n",
              "\n",
              "        k15_p     k16_x     k16_y     k16_p     k17_x     k17_y     k17_p  \n",
              "576  0.677345  0.532438  0.133789  0.627446  0.540199  0.127359  0.746140  \n",
              "312  0.912241  0.927976  0.472846  0.888596  0.170204  0.160819  0.877073  \n",
              "70   0.874081  0.570826  0.894936  0.792130  0.674627  0.968889  0.778858  \n",
              "682  0.781920  0.844127  0.942585  0.765748  0.872486  0.927339  0.892132  \n",
              "896  0.898706  0.879473  0.838911  0.898402  0.898741  0.143048  0.791884  \n",
              "..        ...       ...       ...       ...       ...       ...       ...  \n",
              "55   0.845416  0.629021  0.179208  0.597652  0.619226  0.172897  0.608641  \n",
              "120  0.726027  0.937339  0.313198  0.531511  0.935885  0.287364  0.470828  \n",
              "533  0.684513  0.918872  0.174790  0.938086  0.914088  0.913603  0.655840  \n",
              "25   0.666534  0.375000  0.925423  0.114138  0.307977  0.925913  0.139540  \n",
              "72   0.836579  0.586579  0.687433  0.675891  0.592395  0.704679  0.834647  \n",
              "\n",
              "[212 rows x 51 columns]"
            ],
            "text/html": [
              "\n",
              "  <div id=\"df-c6ca1b00-91d2-4cb3-824e-67f1ba8959b9\" class=\"colab-df-container\">\n",
              "    <div>\n",
              "<style scoped>\n",
              "    .dataframe tbody tr th:only-of-type {\n",
              "        vertical-align: middle;\n",
              "    }\n",
              "\n",
              "    .dataframe tbody tr th {\n",
              "        vertical-align: top;\n",
              "    }\n",
              "\n",
              "    .dataframe thead th {\n",
              "        text-align: right;\n",
              "    }\n",
              "</style>\n",
              "<table border=\"1\" class=\"dataframe\">\n",
              "  <thead>\n",
              "    <tr style=\"text-align: right;\">\n",
              "      <th></th>\n",
              "      <th>k1_x</th>\n",
              "      <th>k1_y</th>\n",
              "      <th>k1_p</th>\n",
              "      <th>k2_x</th>\n",
              "      <th>k2_y</th>\n",
              "      <th>k2_p</th>\n",
              "      <th>k3_x</th>\n",
              "      <th>k3_y</th>\n",
              "      <th>k3_p</th>\n",
              "      <th>k4_x</th>\n",
              "      <th>...</th>\n",
              "      <th>k14_p</th>\n",
              "      <th>k15_x</th>\n",
              "      <th>k15_y</th>\n",
              "      <th>k15_p</th>\n",
              "      <th>k16_x</th>\n",
              "      <th>k16_y</th>\n",
              "      <th>k16_p</th>\n",
              "      <th>k17_x</th>\n",
              "      <th>k17_y</th>\n",
              "      <th>k17_p</th>\n",
              "    </tr>\n",
              "  </thead>\n",
              "  <tbody>\n",
              "    <tr>\n",
              "      <th>576</th>\n",
              "      <td>0.522771</td>\n",
              "      <td>0.911949</td>\n",
              "      <td>0.609212</td>\n",
              "      <td>0.503894</td>\n",
              "      <td>0.921883</td>\n",
              "      <td>0.613233</td>\n",
              "      <td>0.501511</td>\n",
              "      <td>0.920926</td>\n",
              "      <td>0.499995</td>\n",
              "      <td>0.459458</td>\n",
              "      <td>...</td>\n",
              "      <td>0.708835</td>\n",
              "      <td>0.495830</td>\n",
              "      <td>0.311953</td>\n",
              "      <td>0.677345</td>\n",
              "      <td>0.532438</td>\n",
              "      <td>0.133789</td>\n",
              "      <td>0.627446</td>\n",
              "      <td>0.540199</td>\n",
              "      <td>0.127359</td>\n",
              "      <td>0.746140</td>\n",
              "    </tr>\n",
              "    <tr>\n",
              "      <th>312</th>\n",
              "      <td>0.186113</td>\n",
              "      <td>0.516202</td>\n",
              "      <td>0.632114</td>\n",
              "      <td>0.171749</td>\n",
              "      <td>0.532401</td>\n",
              "      <td>0.773987</td>\n",
              "      <td>0.170401</td>\n",
              "      <td>0.519519</td>\n",
              "      <td>0.796785</td>\n",
              "      <td>0.183869</td>\n",
              "      <td>...</td>\n",
              "      <td>0.921476</td>\n",
              "      <td>0.315532</td>\n",
              "      <td>0.284798</td>\n",
              "      <td>0.912241</td>\n",
              "      <td>0.927976</td>\n",
              "      <td>0.472846</td>\n",
              "      <td>0.888596</td>\n",
              "      <td>0.170204</td>\n",
              "      <td>0.160819</td>\n",
              "      <td>0.877073</td>\n",
              "    </tr>\n",
              "    <tr>\n",
              "      <th>70</th>\n",
              "      <td>0.514455</td>\n",
              "      <td>0.153359</td>\n",
              "      <td>0.677294</td>\n",
              "      <td>0.533465</td>\n",
              "      <td>0.127323</td>\n",
              "      <td>0.603322</td>\n",
              "      <td>0.540741</td>\n",
              "      <td>0.120422</td>\n",
              "      <td>0.822288</td>\n",
              "      <td>0.602968</td>\n",
              "      <td>...</td>\n",
              "      <td>0.497668</td>\n",
              "      <td>0.283159</td>\n",
              "      <td>0.978568</td>\n",
              "      <td>0.874081</td>\n",
              "      <td>0.570826</td>\n",
              "      <td>0.894936</td>\n",
              "      <td>0.792130</td>\n",
              "      <td>0.674627</td>\n",
              "      <td>0.968889</td>\n",
              "      <td>0.778858</td>\n",
              "    </tr>\n",
              "    <tr>\n",
              "      <th>682</th>\n",
              "      <td>0.420179</td>\n",
              "      <td>0.143992</td>\n",
              "      <td>0.679242</td>\n",
              "      <td>0.414045</td>\n",
              "      <td>0.130108</td>\n",
              "      <td>0.952725</td>\n",
              "      <td>0.439726</td>\n",
              "      <td>0.112617</td>\n",
              "      <td>0.898974</td>\n",
              "      <td>0.436778</td>\n",
              "      <td>...</td>\n",
              "      <td>0.774842</td>\n",
              "      <td>0.777850</td>\n",
              "      <td>0.705085</td>\n",
              "      <td>0.781920</td>\n",
              "      <td>0.844127</td>\n",
              "      <td>0.942585</td>\n",
              "      <td>0.765748</td>\n",
              "      <td>0.872486</td>\n",
              "      <td>0.927339</td>\n",
              "      <td>0.892132</td>\n",
              "    </tr>\n",
              "    <tr>\n",
              "      <th>896</th>\n",
              "      <td>0.271319</td>\n",
              "      <td>0.381479</td>\n",
              "      <td>0.849420</td>\n",
              "      <td>0.284950</td>\n",
              "      <td>0.365035</td>\n",
              "      <td>0.854822</td>\n",
              "      <td>0.290155</td>\n",
              "      <td>0.359745</td>\n",
              "      <td>0.822169</td>\n",
              "      <td>0.342994</td>\n",
              "      <td>...</td>\n",
              "      <td>0.898557</td>\n",
              "      <td>0.779433</td>\n",
              "      <td>0.323461</td>\n",
              "      <td>0.898706</td>\n",
              "      <td>0.879473</td>\n",
              "      <td>0.838911</td>\n",
              "      <td>0.898402</td>\n",
              "      <td>0.898741</td>\n",
              "      <td>0.143048</td>\n",
              "      <td>0.791884</td>\n",
              "    </tr>\n",
              "    <tr>\n",
              "      <th>...</th>\n",
              "      <td>...</td>\n",
              "      <td>...</td>\n",
              "      <td>...</td>\n",
              "      <td>...</td>\n",
              "      <td>...</td>\n",
              "      <td>...</td>\n",
              "      <td>...</td>\n",
              "      <td>...</td>\n",
              "      <td>...</td>\n",
              "      <td>...</td>\n",
              "      <td>...</td>\n",
              "      <td>...</td>\n",
              "      <td>...</td>\n",
              "      <td>...</td>\n",
              "      <td>...</td>\n",
              "      <td>...</td>\n",
              "      <td>...</td>\n",
              "      <td>...</td>\n",
              "      <td>...</td>\n",
              "      <td>...</td>\n",
              "      <td>...</td>\n",
              "    </tr>\n",
              "    <tr>\n",
              "      <th>55</th>\n",
              "      <td>0.543216</td>\n",
              "      <td>0.833646</td>\n",
              "      <td>0.605873</td>\n",
              "      <td>0.560792</td>\n",
              "      <td>0.860739</td>\n",
              "      <td>0.671531</td>\n",
              "      <td>0.557092</td>\n",
              "      <td>0.861066</td>\n",
              "      <td>0.806034</td>\n",
              "      <td>0.637639</td>\n",
              "      <td>...</td>\n",
              "      <td>0.692421</td>\n",
              "      <td>0.297262</td>\n",
              "      <td>0.187714</td>\n",
              "      <td>0.845416</td>\n",
              "      <td>0.629021</td>\n",
              "      <td>0.179208</td>\n",
              "      <td>0.597652</td>\n",
              "      <td>0.619226</td>\n",
              "      <td>0.172897</td>\n",
              "      <td>0.608641</td>\n",
              "    </tr>\n",
              "    <tr>\n",
              "      <th>120</th>\n",
              "      <td>0.034036</td>\n",
              "      <td>0.173029</td>\n",
              "      <td>0.560722</td>\n",
              "      <td>0.067948</td>\n",
              "      <td>0.169069</td>\n",
              "      <td>0.615779</td>\n",
              "      <td>0.065832</td>\n",
              "      <td>0.172260</td>\n",
              "      <td>0.563783</td>\n",
              "      <td>0.131554</td>\n",
              "      <td>...</td>\n",
              "      <td>0.433718</td>\n",
              "      <td>0.960655</td>\n",
              "      <td>0.746873</td>\n",
              "      <td>0.726027</td>\n",
              "      <td>0.937339</td>\n",
              "      <td>0.313198</td>\n",
              "      <td>0.531511</td>\n",
              "      <td>0.935885</td>\n",
              "      <td>0.287364</td>\n",
              "      <td>0.470828</td>\n",
              "    </tr>\n",
              "    <tr>\n",
              "      <th>533</th>\n",
              "      <td>0.295526</td>\n",
              "      <td>0.442879</td>\n",
              "      <td>0.817816</td>\n",
              "      <td>0.292307</td>\n",
              "      <td>0.472638</td>\n",
              "      <td>0.800647</td>\n",
              "      <td>0.291403</td>\n",
              "      <td>0.466538</td>\n",
              "      <td>0.581968</td>\n",
              "      <td>0.336509</td>\n",
              "      <td>...</td>\n",
              "      <td>0.881417</td>\n",
              "      <td>0.920633</td>\n",
              "      <td>0.616483</td>\n",
              "      <td>0.684513</td>\n",
              "      <td>0.918872</td>\n",
              "      <td>0.174790</td>\n",
              "      <td>0.938086</td>\n",
              "      <td>0.914088</td>\n",
              "      <td>0.913603</td>\n",
              "      <td>0.655840</td>\n",
              "    </tr>\n",
              "    <tr>\n",
              "      <th>25</th>\n",
              "      <td>0.304258</td>\n",
              "      <td>0.015514</td>\n",
              "      <td>0.807599</td>\n",
              "      <td>0.270565</td>\n",
              "      <td>0.031674</td>\n",
              "      <td>0.742549</td>\n",
              "      <td>0.268325</td>\n",
              "      <td>0.032307</td>\n",
              "      <td>0.752679</td>\n",
              "      <td>0.306534</td>\n",
              "      <td>...</td>\n",
              "      <td>0.725609</td>\n",
              "      <td>0.628634</td>\n",
              "      <td>0.918885</td>\n",
              "      <td>0.666534</td>\n",
              "      <td>0.375000</td>\n",
              "      <td>0.925423</td>\n",
              "      <td>0.114138</td>\n",
              "      <td>0.307977</td>\n",
              "      <td>0.925913</td>\n",
              "      <td>0.139540</td>\n",
              "    </tr>\n",
              "    <tr>\n",
              "      <th>72</th>\n",
              "      <td>0.516932</td>\n",
              "      <td>0.195194</td>\n",
              "      <td>0.622272</td>\n",
              "      <td>0.530033</td>\n",
              "      <td>0.175309</td>\n",
              "      <td>0.510965</td>\n",
              "      <td>0.531272</td>\n",
              "      <td>0.174736</td>\n",
              "      <td>0.612127</td>\n",
              "      <td>0.579858</td>\n",
              "      <td>...</td>\n",
              "      <td>0.784863</td>\n",
              "      <td>0.374178</td>\n",
              "      <td>0.709720</td>\n",
              "      <td>0.836579</td>\n",
              "      <td>0.586579</td>\n",
              "      <td>0.687433</td>\n",
              "      <td>0.675891</td>\n",
              "      <td>0.592395</td>\n",
              "      <td>0.704679</td>\n",
              "      <td>0.834647</td>\n",
              "    </tr>\n",
              "  </tbody>\n",
              "</table>\n",
              "<p>212 rows × 51 columns</p>\n",
              "</div>\n",
              "    <div class=\"colab-df-buttons\">\n",
              "\n",
              "  <div class=\"colab-df-container\">\n",
              "    <button class=\"colab-df-convert\" onclick=\"convertToInteractive('df-c6ca1b00-91d2-4cb3-824e-67f1ba8959b9')\"\n",
              "            title=\"Convert this dataframe to an interactive table.\"\n",
              "            style=\"display:none;\">\n",
              "\n",
              "  <svg xmlns=\"http://www.w3.org/2000/svg\" height=\"24px\" viewBox=\"0 -960 960 960\">\n",
              "    <path d=\"M120-120v-720h720v720H120Zm60-500h600v-160H180v160Zm220 220h160v-160H400v160Zm0 220h160v-160H400v160ZM180-400h160v-160H180v160Zm440 0h160v-160H620v160ZM180-180h160v-160H180v160Zm440 0h160v-160H620v160Z\"/>\n",
              "  </svg>\n",
              "    </button>\n",
              "\n",
              "  <style>\n",
              "    .colab-df-container {\n",
              "      display:flex;\n",
              "      gap: 12px;\n",
              "    }\n",
              "\n",
              "    .colab-df-convert {\n",
              "      background-color: #E8F0FE;\n",
              "      border: none;\n",
              "      border-radius: 50%;\n",
              "      cursor: pointer;\n",
              "      display: none;\n",
              "      fill: #1967D2;\n",
              "      height: 32px;\n",
              "      padding: 0 0 0 0;\n",
              "      width: 32px;\n",
              "    }\n",
              "\n",
              "    .colab-df-convert:hover {\n",
              "      background-color: #E2EBFA;\n",
              "      box-shadow: 0px 1px 2px rgba(60, 64, 67, 0.3), 0px 1px 3px 1px rgba(60, 64, 67, 0.15);\n",
              "      fill: #174EA6;\n",
              "    }\n",
              "\n",
              "    .colab-df-buttons div {\n",
              "      margin-bottom: 4px;\n",
              "    }\n",
              "\n",
              "    [theme=dark] .colab-df-convert {\n",
              "      background-color: #3B4455;\n",
              "      fill: #D2E3FC;\n",
              "    }\n",
              "\n",
              "    [theme=dark] .colab-df-convert:hover {\n",
              "      background-color: #434B5C;\n",
              "      box-shadow: 0px 1px 3px 1px rgba(0, 0, 0, 0.15);\n",
              "      filter: drop-shadow(0px 1px 2px rgba(0, 0, 0, 0.3));\n",
              "      fill: #FFFFFF;\n",
              "    }\n",
              "  </style>\n",
              "\n",
              "    <script>\n",
              "      const buttonEl =\n",
              "        document.querySelector('#df-c6ca1b00-91d2-4cb3-824e-67f1ba8959b9 button.colab-df-convert');\n",
              "      buttonEl.style.display =\n",
              "        google.colab.kernel.accessAllowed ? 'block' : 'none';\n",
              "\n",
              "      async function convertToInteractive(key) {\n",
              "        const element = document.querySelector('#df-c6ca1b00-91d2-4cb3-824e-67f1ba8959b9');\n",
              "        const dataTable =\n",
              "          await google.colab.kernel.invokeFunction('convertToInteractive',\n",
              "                                                    [key], {});\n",
              "        if (!dataTable) return;\n",
              "\n",
              "        const docLinkHtml = 'Like what you see? Visit the ' +\n",
              "          '<a target=\"_blank\" href=https://colab.research.google.com/notebooks/data_table.ipynb>data table notebook</a>'\n",
              "          + ' to learn more about interactive tables.';\n",
              "        element.innerHTML = '';\n",
              "        dataTable['output_type'] = 'display_data';\n",
              "        await google.colab.output.renderOutput(dataTable, element);\n",
              "        const docLink = document.createElement('div');\n",
              "        docLink.innerHTML = docLinkHtml;\n",
              "        element.appendChild(docLink);\n",
              "      }\n",
              "    </script>\n",
              "  </div>\n",
              "\n",
              "\n",
              "<div id=\"df-cac31324-ddd4-4a44-879f-c8fc36ee801e\">\n",
              "  <button class=\"colab-df-quickchart\" onclick=\"quickchart('df-cac31324-ddd4-4a44-879f-c8fc36ee801e')\"\n",
              "            title=\"Suggest charts\"\n",
              "            style=\"display:none;\">\n",
              "\n",
              "<svg xmlns=\"http://www.w3.org/2000/svg\" height=\"24px\"viewBox=\"0 0 24 24\"\n",
              "     width=\"24px\">\n",
              "    <g>\n",
              "        <path d=\"M19 3H5c-1.1 0-2 .9-2 2v14c0 1.1.9 2 2 2h14c1.1 0 2-.9 2-2V5c0-1.1-.9-2-2-2zM9 17H7v-7h2v7zm4 0h-2V7h2v10zm4 0h-2v-4h2v4z\"/>\n",
              "    </g>\n",
              "</svg>\n",
              "  </button>\n",
              "\n",
              "<style>\n",
              "  .colab-df-quickchart {\n",
              "      --bg-color: #E8F0FE;\n",
              "      --fill-color: #1967D2;\n",
              "      --hover-bg-color: #E2EBFA;\n",
              "      --hover-fill-color: #174EA6;\n",
              "      --disabled-fill-color: #AAA;\n",
              "      --disabled-bg-color: #DDD;\n",
              "  }\n",
              "\n",
              "  [theme=dark] .colab-df-quickchart {\n",
              "      --bg-color: #3B4455;\n",
              "      --fill-color: #D2E3FC;\n",
              "      --hover-bg-color: #434B5C;\n",
              "      --hover-fill-color: #FFFFFF;\n",
              "      --disabled-bg-color: #3B4455;\n",
              "      --disabled-fill-color: #666;\n",
              "  }\n",
              "\n",
              "  .colab-df-quickchart {\n",
              "    background-color: var(--bg-color);\n",
              "    border: none;\n",
              "    border-radius: 50%;\n",
              "    cursor: pointer;\n",
              "    display: none;\n",
              "    fill: var(--fill-color);\n",
              "    height: 32px;\n",
              "    padding: 0;\n",
              "    width: 32px;\n",
              "  }\n",
              "\n",
              "  .colab-df-quickchart:hover {\n",
              "    background-color: var(--hover-bg-color);\n",
              "    box-shadow: 0 1px 2px rgba(60, 64, 67, 0.3), 0 1px 3px 1px rgba(60, 64, 67, 0.15);\n",
              "    fill: var(--button-hover-fill-color);\n",
              "  }\n",
              "\n",
              "  .colab-df-quickchart-complete:disabled,\n",
              "  .colab-df-quickchart-complete:disabled:hover {\n",
              "    background-color: var(--disabled-bg-color);\n",
              "    fill: var(--disabled-fill-color);\n",
              "    box-shadow: none;\n",
              "  }\n",
              "\n",
              "  .colab-df-spinner {\n",
              "    border: 2px solid var(--fill-color);\n",
              "    border-color: transparent;\n",
              "    border-bottom-color: var(--fill-color);\n",
              "    animation:\n",
              "      spin 1s steps(1) infinite;\n",
              "  }\n",
              "\n",
              "  @keyframes spin {\n",
              "    0% {\n",
              "      border-color: transparent;\n",
              "      border-bottom-color: var(--fill-color);\n",
              "      border-left-color: var(--fill-color);\n",
              "    }\n",
              "    20% {\n",
              "      border-color: transparent;\n",
              "      border-left-color: var(--fill-color);\n",
              "      border-top-color: var(--fill-color);\n",
              "    }\n",
              "    30% {\n",
              "      border-color: transparent;\n",
              "      border-left-color: var(--fill-color);\n",
              "      border-top-color: var(--fill-color);\n",
              "      border-right-color: var(--fill-color);\n",
              "    }\n",
              "    40% {\n",
              "      border-color: transparent;\n",
              "      border-right-color: var(--fill-color);\n",
              "      border-top-color: var(--fill-color);\n",
              "    }\n",
              "    60% {\n",
              "      border-color: transparent;\n",
              "      border-right-color: var(--fill-color);\n",
              "    }\n",
              "    80% {\n",
              "      border-color: transparent;\n",
              "      border-right-color: var(--fill-color);\n",
              "      border-bottom-color: var(--fill-color);\n",
              "    }\n",
              "    90% {\n",
              "      border-color: transparent;\n",
              "      border-bottom-color: var(--fill-color);\n",
              "    }\n",
              "  }\n",
              "</style>\n",
              "\n",
              "  <script>\n",
              "    async function quickchart(key) {\n",
              "      const quickchartButtonEl =\n",
              "        document.querySelector('#' + key + ' button');\n",
              "      quickchartButtonEl.disabled = true;  // To prevent multiple clicks.\n",
              "      quickchartButtonEl.classList.add('colab-df-spinner');\n",
              "      try {\n",
              "        const charts = await google.colab.kernel.invokeFunction(\n",
              "            'suggestCharts', [key], {});\n",
              "      } catch (error) {\n",
              "        console.error('Error during call to suggestCharts:', error);\n",
              "      }\n",
              "      quickchartButtonEl.classList.remove('colab-df-spinner');\n",
              "      quickchartButtonEl.classList.add('colab-df-quickchart-complete');\n",
              "    }\n",
              "    (() => {\n",
              "      let quickchartButtonEl =\n",
              "        document.querySelector('#df-cac31324-ddd4-4a44-879f-c8fc36ee801e button');\n",
              "      quickchartButtonEl.style.display =\n",
              "        google.colab.kernel.accessAllowed ? 'block' : 'none';\n",
              "    })();\n",
              "  </script>\n",
              "</div>\n",
              "    </div>\n",
              "  </div>\n"
            ]
          },
          "metadata": {},
          "execution_count": 16
        }
      ]
    },
    {
      "cell_type": "code",
      "source": [
        "from sklearn.preprocessing import LabelEncoder\n",
        "\n",
        "# Initialize LabelEncoder\n",
        "label_encoder = LabelEncoder()\n",
        "\n",
        "# Fit and transform labels in y_train and y_valid\n",
        "y_train_encoded = label_encoder.fit_transform(y_train)\n",
        "y_valid_encoded = label_encoder.transform(y_valid)"
      ],
      "metadata": {
        "id": "_VCvOPKeju1e"
      },
      "execution_count": null,
      "outputs": []
    },
    {
      "cell_type": "code",
      "source": [
        "# Retrieve the mapping of labels to encoded values\n",
        "label_mapping = dict(zip(label_encoder.classes_, label_encoder.transform(label_encoder.classes_)))\n",
        "\n",
        "print(\"Label Mapping:\", label_mapping)"
      ],
      "metadata": {
        "colab": {
          "base_uri": "https://localhost:8080/"
        },
        "id": "UuO1HPsyhxej",
        "outputId": "486d470d-7e4b-4f0b-dbd4-5e7b0bf174a5"
      },
      "execution_count": null,
      "outputs": [
        {
          "output_type": "stream",
          "name": "stdout",
          "text": [
            "Label Mapping: {'Bow': 0, 'Bridge': 1, 'Camel': 2, 'Cat': 3, 'Cow': 4, 'Crow': 5, 'Extended Hand to Toe': 6, 'Extended Side Angle': 7, 'Forward Bend with Shoulder Opener': 8, 'Half-Moon': 9, 'Low Lunge': 10, 'Plank': 11, 'Shoulder Stand': 12, 'Side Plank': 13, 'Sphinx': 14, 'Tree': 15, 'Upward-Facing Dog': 16, 'Warrior One': 17, 'Warrior Three': 18, 'Warrior Two': 19, 'Wheel': 20}\n"
          ]
        }
      ]
    },
    {
      "cell_type": "code",
      "source": [
        "import tensorflow as tf"
      ],
      "metadata": {
        "id": "rlcQCx8rnp9r"
      },
      "execution_count": null,
      "outputs": []
    },
    {
      "cell_type": "code",
      "source": [
        "num_classes = 21"
      ],
      "metadata": {
        "id": "OGmJ-q6Rlr_k"
      },
      "execution_count": null,
      "outputs": []
    },
    {
      "cell_type": "code",
      "source": [
        "classifier_model = tf.keras.Sequential([\n",
        "    tf.keras.layers.Dense(128, activation='relu'),\n",
        "    tf.keras.layers.Dense(64, activation='relu'),\n",
        "    tf.keras.layers.Dense(num_classes, activation='softmax')\n",
        "])"
      ],
      "metadata": {
        "id": "XNwvtsEjnjrc"
      },
      "execution_count": null,
      "outputs": []
    },
    {
      "cell_type": "code",
      "source": [
        "X_train.shape"
      ],
      "metadata": {
        "colab": {
          "base_uri": "https://localhost:8080/"
        },
        "id": "5Q3RhNK4tZFV",
        "outputId": "ad60c648-3822-4b01-cbde-9f000e2498b8"
      },
      "execution_count": null,
      "outputs": [
        {
          "output_type": "execute_result",
          "data": {
            "text/plain": [
              "(847, 51)"
            ]
          },
          "metadata": {},
          "execution_count": 22
        }
      ]
    },
    {
      "cell_type": "code",
      "source": [
        "# Compile and train the classifier\n",
        "classifier_model.compile(optimizer='adam', loss=tf.keras.losses.SparseCategoricalCrossentropy(from_logits=True), metrics=['accuracy'])\n"
      ],
      "metadata": {
        "id": "R47_VzbJoLzB"
      },
      "execution_count": null,
      "outputs": []
    },
    {
      "cell_type": "code",
      "source": [
        "classifier_model.summary()  # Print the model summary to verify the changes\n"
      ],
      "metadata": {
        "colab": {
          "base_uri": "https://localhost:8080/"
        },
        "id": "X1zlQKZLshQt",
        "outputId": "bd417860-b6b6-49d1-e7b7-627d0349f72b"
      },
      "execution_count": null,
      "outputs": [
        {
          "output_type": "stream",
          "name": "stdout",
          "text": [
            "Model: \"sequential\"\n",
            "_________________________________________________________________\n",
            " Layer (type)                Output Shape              Param #   \n",
            "=================================================================\n",
            " dense (Dense)               (None, 128)               6656      \n",
            "                                                                 \n",
            " dense_1 (Dense)             (None, 64)                8256      \n",
            "                                                                 \n",
            " dense_2 (Dense)             (None, 25)                1625      \n",
            "                                                                 \n",
            "=================================================================\n",
            "Total params: 16537 (64.60 KB)\n",
            "Trainable params: 16537 (64.60 KB)\n",
            "Non-trainable params: 0 (0.00 Byte)\n",
            "_________________________________________________________________\n"
          ]
        }
      ]
    },
    {
      "cell_type": "code",
      "source": [
        "epochs=30\n",
        "history = classifier_model.fit(X_train, y_train_encoded, validation_data=(X_valid, y_valid_encoded), epochs=30)"
      ],
      "metadata": {
        "colab": {
          "base_uri": "https://localhost:8080/"
        },
        "id": "4PJVUYF9sgqX",
        "outputId": "6ba290c3-cbb4-4a69-b51c-2833b6510f97"
      },
      "execution_count": null,
      "outputs": [
        {
          "output_type": "stream",
          "name": "stdout",
          "text": [
            "Epoch 1/30\n"
          ]
        },
        {
          "output_type": "stream",
          "name": "stderr",
          "text": [
            "/usr/local/lib/python3.10/dist-packages/keras/src/backend.py:5727: UserWarning: \"`sparse_categorical_crossentropy` received `from_logits=True`, but the `output` argument was produced by a Softmax activation and thus does not represent logits. Was this intended?\n",
            "  output, from_logits = _get_logits(\n"
          ]
        },
        {
          "output_type": "stream",
          "name": "stdout",
          "text": [
            "27/27 [==============================] - 1s 11ms/step - loss: 2.9822 - accuracy: 0.0945 - val_loss: 2.8931 - val_accuracy: 0.1132\n",
            "Epoch 2/30\n",
            " 1/27 [>.............................] - ETA: 0s - loss: 2.8624 - accuracy: 0.2188"
          ]
        },
        {
          "output_type": "stream",
          "name": "stderr",
          "text": [
            "/usr/local/lib/python3.10/dist-packages/keras/src/backend.py:5727: UserWarning: \"`sparse_categorical_crossentropy` received `from_logits=True`, but the `output` argument was produced by a Softmax activation and thus does not represent logits. Was this intended?\n",
            "  output, from_logits = _get_logits(\n"
          ]
        },
        {
          "output_type": "stream",
          "name": "stdout",
          "text": [
            "\b\b\b\b\b\b\b\b\b\b\b\b\b\b\b\b\b\b\b\b\b\b\b\b\b\b\b\b\b\b\b\b\b\b\b\b\b\b\b\b\b\b\b\b\b\b\b\b\b\b\b\b\b\b\b\b\b\b\b\b\b\b\b\b\b\b\b\b\b\b\b\b\b\b\b\b\b\b\b\b\b\b\r27/27 [==============================] - 0s 3ms/step - loss: 2.8107 - accuracy: 0.1995 - val_loss: 2.7329 - val_accuracy: 0.2123\n",
            "Epoch 3/30\n",
            "27/27 [==============================] - 0s 3ms/step - loss: 2.6082 - accuracy: 0.2845 - val_loss: 2.5079 - val_accuracy: 0.3396\n",
            "Epoch 4/30\n",
            "27/27 [==============================] - 0s 3ms/step - loss: 2.3624 - accuracy: 0.3896 - val_loss: 2.2705 - val_accuracy: 0.3396\n",
            "Epoch 5/30\n",
            "27/27 [==============================] - 0s 3ms/step - loss: 2.1015 - accuracy: 0.4073 - val_loss: 2.0047 - val_accuracy: 0.4906\n",
            "Epoch 6/30\n",
            "27/27 [==============================] - 0s 3ms/step - loss: 1.8418 - accuracy: 0.5313 - val_loss: 1.7824 - val_accuracy: 0.5425\n",
            "Epoch 7/30\n",
            "27/27 [==============================] - 0s 3ms/step - loss: 1.6274 - accuracy: 0.5797 - val_loss: 1.6022 - val_accuracy: 0.5566\n",
            "Epoch 8/30\n",
            "27/27 [==============================] - 0s 3ms/step - loss: 1.4475 - accuracy: 0.6399 - val_loss: 1.4958 - val_accuracy: 0.6085\n",
            "Epoch 9/30\n",
            "27/27 [==============================] - 0s 3ms/step - loss: 1.3167 - accuracy: 0.6659 - val_loss: 1.3601 - val_accuracy: 0.6415\n",
            "Epoch 10/30\n",
            "27/27 [==============================] - 0s 3ms/step - loss: 1.1890 - accuracy: 0.7096 - val_loss: 1.2347 - val_accuracy: 0.6887\n",
            "Epoch 11/30\n",
            "27/27 [==============================] - 0s 3ms/step - loss: 1.0835 - accuracy: 0.7296 - val_loss: 1.1906 - val_accuracy: 0.7028\n",
            "Epoch 12/30\n",
            "27/27 [==============================] - 0s 4ms/step - loss: 1.0071 - accuracy: 0.7591 - val_loss: 1.0846 - val_accuracy: 0.7500\n",
            "Epoch 13/30\n",
            "27/27 [==============================] - 0s 4ms/step - loss: 0.9254 - accuracy: 0.7780 - val_loss: 1.0434 - val_accuracy: 0.7736\n",
            "Epoch 14/30\n",
            "27/27 [==============================] - 0s 4ms/step - loss: 0.8525 - accuracy: 0.7851 - val_loss: 1.0025 - val_accuracy: 0.7877\n",
            "Epoch 15/30\n",
            "27/27 [==============================] - 0s 3ms/step - loss: 0.7949 - accuracy: 0.8146 - val_loss: 0.9542 - val_accuracy: 0.7925\n",
            "Epoch 16/30\n",
            "27/27 [==============================] - 0s 3ms/step - loss: 0.7297 - accuracy: 0.8359 - val_loss: 0.9353 - val_accuracy: 0.8160\n",
            "Epoch 17/30\n",
            "27/27 [==============================] - 0s 3ms/step - loss: 0.7019 - accuracy: 0.8253 - val_loss: 0.8922 - val_accuracy: 0.8113\n",
            "Epoch 18/30\n",
            "27/27 [==============================] - 0s 3ms/step - loss: 0.6765 - accuracy: 0.8170 - val_loss: 0.8668 - val_accuracy: 0.8349\n",
            "Epoch 19/30\n",
            "27/27 [==============================] - 0s 3ms/step - loss: 0.6158 - accuracy: 0.8571 - val_loss: 0.8564 - val_accuracy: 0.7877\n",
            "Epoch 20/30\n",
            "27/27 [==============================] - 0s 4ms/step - loss: 0.5809 - accuracy: 0.8619 - val_loss: 0.8418 - val_accuracy: 0.8208\n",
            "Epoch 21/30\n",
            "27/27 [==============================] - 0s 3ms/step - loss: 0.5584 - accuracy: 0.8642 - val_loss: 0.8327 - val_accuracy: 0.8113\n",
            "Epoch 22/30\n",
            "27/27 [==============================] - 0s 3ms/step - loss: 0.5210 - accuracy: 0.8831 - val_loss: 0.7837 - val_accuracy: 0.8302\n",
            "Epoch 23/30\n",
            "27/27 [==============================] - 0s 3ms/step - loss: 0.4992 - accuracy: 0.8737 - val_loss: 0.7801 - val_accuracy: 0.8302\n",
            "Epoch 24/30\n",
            "27/27 [==============================] - 0s 3ms/step - loss: 0.4832 - accuracy: 0.8784 - val_loss: 0.7422 - val_accuracy: 0.8726\n",
            "Epoch 25/30\n",
            "27/27 [==============================] - 0s 3ms/step - loss: 0.4685 - accuracy: 0.8642 - val_loss: 0.7922 - val_accuracy: 0.8160\n",
            "Epoch 26/30\n",
            "27/27 [==============================] - 0s 3ms/step - loss: 0.4452 - accuracy: 0.8914 - val_loss: 0.7166 - val_accuracy: 0.8679\n",
            "Epoch 27/30\n",
            "27/27 [==============================] - 0s 3ms/step - loss: 0.4305 - accuracy: 0.8843 - val_loss: 0.7386 - val_accuracy: 0.8302\n",
            "Epoch 28/30\n",
            "27/27 [==============================] - 0s 4ms/step - loss: 0.4166 - accuracy: 0.8890 - val_loss: 0.7136 - val_accuracy: 0.8443\n",
            "Epoch 29/30\n",
            "27/27 [==============================] - 0s 4ms/step - loss: 0.3999 - accuracy: 0.8867 - val_loss: 0.6994 - val_accuracy: 0.8774\n",
            "Epoch 30/30\n",
            "27/27 [==============================] - 0s 3ms/step - loss: 0.3762 - accuracy: 0.9032 - val_loss: 0.6910 - val_accuracy: 0.8774\n"
          ]
        }
      ]
    },
    {
      "cell_type": "code",
      "source": [
        "# Evaluate the model on the validation set\n",
        "loss, accuracy = classifier_model.evaluate(X_valid, y_valid_encoded)\n",
        "print(f'Validation Loss: {loss}')\n",
        "print(f'Validation Accuracy: {accuracy}')\n"
      ],
      "metadata": {
        "colab": {
          "base_uri": "https://localhost:8080/"
        },
        "id": "km9W8XtlkNn5",
        "outputId": "a83dd056-c553-49a0-8c14-d69091f6e0d0"
      },
      "execution_count": null,
      "outputs": [
        {
          "output_type": "stream",
          "name": "stdout",
          "text": [
            "8/8 [==============================] - 0s 1ms/step - loss: 0.4409 - accuracy: 0.8613\n",
            "Validation Loss: 0.4409447908401489\n",
            "Validation Accuracy: 0.8613445162773132\n"
          ]
        }
      ]
    },
    {
      "cell_type": "code",
      "source": [
        "# Convert the model to TFLite\n",
        "converter = tf.lite.TFLiteConverter.from_keras_model(classifier_model)\n",
        "tflite_model = converter.convert()\n",
        "\n",
        "# Save the TFLite model\n",
        "with open(f'{MOUNT_PATH}/MyDrive/FYP_Research_Work/dataset/CustomYogaPoses/keypoints_to_pose_classifier_v1.tflite', 'wb') as f:\n",
        "    f.write(tflite_model)\n"
      ],
      "metadata": {
        "id": "k4StazS1k1EO"
      },
      "execution_count": null,
      "outputs": []
    },
    {
      "cell_type": "code",
      "source": [
        "import matplotlib.pyplot as plt"
      ],
      "metadata": {
        "id": "xLHz2EvXodGu"
      },
      "execution_count": null,
      "outputs": []
    },
    {
      "cell_type": "code",
      "source": [
        "acc = history.history['accuracy']\n",
        "val_acc = history.history['val_accuracy']\n",
        "\n",
        "loss = history.history['loss']\n",
        "val_loss = history.history['val_loss']\n",
        "\n",
        "epochs_range = range(epochs)\n",
        "\n",
        "plt.figure(figsize=(8, 8))\n",
        "plt.subplot(1, 2, 1)\n",
        "plt.plot(epochs_range, acc, label='Training Accuracy')\n",
        "plt.plot(epochs_range, val_acc, label='Validation Accuracy')\n",
        "plt.legend(loc='lower right')\n",
        "plt.title('Training and Validation Accuracy')\n",
        "\n",
        "plt.subplot(1, 2, 2)\n",
        "plt.plot(epochs_range, loss, label='Training Loss')\n",
        "plt.plot(epochs_range, val_loss, label='Validation Loss')\n",
        "plt.legend(loc='upper right')\n",
        "plt.title('Training and Validation Loss')\n",
        "plt.show()"
      ],
      "metadata": {
        "colab": {
          "base_uri": "https://localhost:8080/",
          "height": 699
        },
        "id": "pYE7-wMnmd4c",
        "outputId": "e8ca3199-c191-44bc-f800-be6b2828eeb5"
      },
      "execution_count": null,
      "outputs": [
        {
          "output_type": "display_data",
          "data": {
            "text/plain": [
              "<Figure size 800x800 with 2 Axes>"
            ],
            "image/png": "[encoded data removed]"
          },
          "metadata": {}
        }
      ]
    },
    {
      "cell_type": "markdown",
      "source": [
        "## Hyperparameter tuning - method 1"
      ],
      "metadata": {
        "id": "Redpoe9ztWX4"
      }
    },
    {
      "cell_type": "code",
      "source": [
        "!pip install scikeras\n"
      ],
      "metadata": {
        "colab": {
          "base_uri": "https://localhost:8080/"
        },
        "id": "uB8-f5VWrHYD",
        "outputId": "ed400c05-cb18-4b40-c973-429e899d428a"
      },
      "execution_count": null,
      "outputs": [
        {
          "output_type": "stream",
          "name": "stdout",
          "text": [
            "Collecting scikeras\n",
            "  Downloading scikeras-0.12.0-py3-none-any.whl (27 kB)\n",
            "Requirement already satisfied: packaging>=0.21 in /usr/local/lib/python3.10/dist-packages (from scikeras) (23.2)\n",
            "Requirement already satisfied: scikit-learn>=1.0.0 in /usr/local/lib/python3.10/dist-packages (from scikeras) (1.2.2)\n",
            "Requirement already satisfied: numpy>=1.17.3 in /usr/local/lib/python3.10/dist-packages (from scikit-learn>=1.0.0->scikeras) (1.23.5)\n",
            "Requirement already satisfied: scipy>=1.3.2 in /usr/local/lib/python3.10/dist-packages (from scikit-learn>=1.0.0->scikeras) (1.11.4)\n",
            "Requirement already satisfied: joblib>=1.1.1 in /usr/local/lib/python3.10/dist-packages (from scikit-learn>=1.0.0->scikeras) (1.3.2)\n",
            "Requirement already satisfied: threadpoolctl>=2.0.0 in /usr/local/lib/python3.10/dist-packages (from scikit-learn>=1.0.0->scikeras) (3.2.0)\n",
            "Installing collected packages: scikeras\n",
            "Successfully installed scikeras-0.12.0\n"
          ]
        }
      ]
    },
    {
      "cell_type": "code",
      "source": [
        "from sklearn.model_selection import GridSearchCV\n",
        "from scikeras.wrappers import KerasClassifier"
      ],
      "metadata": {
        "id": "URIJ3156lZt0"
      },
      "execution_count": null,
      "outputs": []
    },
    {
      "cell_type": "code",
      "source": [
        "# Define a function that creates a Keras model\n",
        "def create_model(num_layers=2, neurons=64):\n",
        "    model = Sequential()\n",
        "    model.add(Dense(neurons, activation='relu', input_shape=(X_train.shape[1],)))\n",
        "    for _ in range(num_layers - 1):\n",
        "        model.add(Dense(neurons, activation='relu'))\n",
        "    model.add(Dense(num_classes, activation='softmax'))\n",
        "    model.compile(optimizer='adam', loss='sparse_categorical_crossentropy', metrics=['accuracy'])\n",
        "    return model"
      ],
      "metadata": {
        "id": "LS37P-2roulK"
      },
      "execution_count": null,
      "outputs": []
    },
    {
      "cell_type": "code",
      "source": [
        "# Create a KerasClassifier based on the above function\n",
        "model = KerasClassifier(build_fn=create_model, verbose=0)"
      ],
      "metadata": {
        "id": "r1lXDtVbo8p5"
      },
      "execution_count": null,
      "outputs": []
    },
    {
      "cell_type": "code",
      "source": [
        "# Define the hyperparameters to tune\n",
        "param_grid = {\n",
        "    'num_layers': [1, 2, 3],  # Number of hidden layers\n",
        "}"
      ],
      "metadata": {
        "id": "1OFEC8wUo_ya"
      },
      "execution_count": null,
      "outputs": []
    },
    {
      "cell_type": "code",
      "source": [
        "# Create a GridSearchCV object\n",
        "grid = GridSearchCV(estimator=model, param_grid=param_grid, cv=3, verbose=1)\n"
      ],
      "metadata": {
        "id": "IJpMnN4zpErU"
      },
      "execution_count": null,
      "outputs": []
    },
    {
      "cell_type": "code",
      "source": [
        "\n",
        "# Perform the grid search\n",
        "grid_result = grid.fit(X_train, y_train_encoded)"
      ],
      "metadata": {
        "colab": {
          "base_uri": "https://localhost:8080/",
          "height": 408
        },
        "id": "X2WszbhmpGQa",
        "outputId": "83e55d6a-d3e8-4509-8d74-d52b35b0f4c8"
      },
      "execution_count": null,
      "outputs": [
        {
          "output_type": "stream",
          "name": "stdout",
          "text": [
            "Fitting 3 folds for each of 3 candidates, totalling 9 fits\n"
          ]
        },
        {
          "output_type": "error",
          "ename": "ValueError",
          "evalue": "Invalid parameter num_layers for estimator KerasClassifier.\nThis issue can likely be resolved by setting this parameter in the KerasClassifier constructor:\n`KerasClassifier(num_layers=1)`\nCheck the list of available parameters with `estimator.get_params().keys()`",
          "traceback": [
            "\u001b[0;31m---------------------------------------------------------------------------\u001b[0m",
            "\u001b[0;31mValueError\u001b[0m                                Traceback (most recent call last)",
            "\u001b[0;32m<ipython-input-92-5ba285a1055f>\u001b[0m in \u001b[0;36m<cell line: 2>\u001b[0;34m()\u001b[0m\n\u001b[1;32m      1\u001b[0m \u001b[0;31m# Perform the grid search\u001b[0m\u001b[0;34m\u001b[0m\u001b[0;34m\u001b[0m\u001b[0m\n\u001b[0;32m----> 2\u001b[0;31m \u001b[0mgrid_result\u001b[0m \u001b[0;34m=\u001b[0m \u001b[0mgrid\u001b[0m\u001b[0;34m.\u001b[0m\u001b[0mfit\u001b[0m\u001b[0;34m(\u001b[0m\u001b[0mX_train\u001b[0m\u001b[0;34m,\u001b[0m \u001b[0my_train_encoded\u001b[0m\u001b[0;34m)\u001b[0m\u001b[0;34m\u001b[0m\u001b[0;34m\u001b[0m\u001b[0m\n\u001b[0m",
            "\u001b[0;32m/usr/local/lib/python3.10/dist-packages/sklearn/model_selection/_search.py\u001b[0m in \u001b[0;36mfit\u001b[0;34m(self, X, y, groups, **fit_params)\u001b[0m\n\u001b[1;32m    872\u001b[0m                 \u001b[0;32mreturn\u001b[0m \u001b[0mresults\u001b[0m\u001b[0;34m\u001b[0m\u001b[0;34m\u001b[0m\u001b[0m\n\u001b[1;32m    873\u001b[0m \u001b[0;34m\u001b[0m\u001b[0m\n\u001b[0;32m--> 874\u001b[0;31m             \u001b[0mself\u001b[0m\u001b[0;34m.\u001b[0m\u001b[0m_run_search\u001b[0m\u001b[0;34m(\u001b[0m\u001b[0mevaluate_candidates\u001b[0m\u001b[0;34m)\u001b[0m\u001b[0;34m\u001b[0m\u001b[0;34m\u001b[0m\u001b[0m\n\u001b[0m\u001b[1;32m    875\u001b[0m \u001b[0;34m\u001b[0m\u001b[0m\n\u001b[1;32m    876\u001b[0m             \u001b[0;31m# multimetric is determined here because in the case of a callable\u001b[0m\u001b[0;34m\u001b[0m\u001b[0;34m\u001b[0m\u001b[0m\n",
            "\u001b[0;32m/usr/local/lib/python3.10/dist-packages/sklearn/model_selection/_search.py\u001b[0m in \u001b[0;36m_run_search\u001b[0;34m(self, evaluate_candidates)\u001b[0m\n\u001b[1;32m   1386\u001b[0m     \u001b[0;32mdef\u001b[0m \u001b[0m_run_search\u001b[0m\u001b[0;34m(\u001b[0m\u001b[0mself\u001b[0m\u001b[0;34m,\u001b[0m \u001b[0mevaluate_candidates\u001b[0m\u001b[0;34m)\u001b[0m\u001b[0;34m:\u001b[0m\u001b[0;34m\u001b[0m\u001b[0;34m\u001b[0m\u001b[0m\n\u001b[1;32m   1387\u001b[0m         \u001b[0;34m\"\"\"Search all candidates in param_grid\"\"\"\u001b[0m\u001b[0;34m\u001b[0m\u001b[0;34m\u001b[0m\u001b[0m\n\u001b[0;32m-> 1388\u001b[0;31m         \u001b[0mevaluate_candidates\u001b[0m\u001b[0;34m(\u001b[0m\u001b[0mParameterGrid\u001b[0m\u001b[0;34m(\u001b[0m\u001b[0mself\u001b[0m\u001b[0;34m.\u001b[0m\u001b[0mparam_grid\u001b[0m\u001b[0;34m)\u001b[0m\u001b[0;34m)\u001b[0m\u001b[0;34m\u001b[0m\u001b[0;34m\u001b[0m\u001b[0m\n\u001b[0m\u001b[1;32m   1389\u001b[0m \u001b[0;34m\u001b[0m\u001b[0m\n\u001b[1;32m   1390\u001b[0m \u001b[0;34m\u001b[0m\u001b[0m\n",
            "\u001b[0;32m/usr/local/lib/python3.10/dist-packages/sklearn/model_selection/_search.py\u001b[0m in \u001b[0;36mevaluate_candidates\u001b[0;34m(candidate_params, cv, more_results)\u001b[0m\n\u001b[1;32m    819\u001b[0m                     )\n\u001b[1;32m    820\u001b[0m \u001b[0;34m\u001b[0m\u001b[0m\n\u001b[0;32m--> 821\u001b[0;31m                 out = parallel(\n\u001b[0m\u001b[1;32m    822\u001b[0m                     delayed(_fit_and_score)(\n\u001b[1;32m    823\u001b[0m                         \u001b[0mclone\u001b[0m\u001b[0;34m(\u001b[0m\u001b[0mbase_estimator\u001b[0m\u001b[0;34m)\u001b[0m\u001b[0;34m,\u001b[0m\u001b[0;34m\u001b[0m\u001b[0;34m\u001b[0m\u001b[0m\n",
            "\u001b[0;32m/usr/local/lib/python3.10/dist-packages/sklearn/utils/parallel.py\u001b[0m in \u001b[0;36m__call__\u001b[0;34m(self, iterable)\u001b[0m\n\u001b[1;32m     61\u001b[0m             \u001b[0;32mfor\u001b[0m \u001b[0mdelayed_func\u001b[0m\u001b[0;34m,\u001b[0m \u001b[0margs\u001b[0m\u001b[0;34m,\u001b[0m \u001b[0mkwargs\u001b[0m \u001b[0;32min\u001b[0m \u001b[0miterable\u001b[0m\u001b[0;34m\u001b[0m\u001b[0;34m\u001b[0m\u001b[0m\n\u001b[1;32m     62\u001b[0m         )\n\u001b[0;32m---> 63\u001b[0;31m         \u001b[0;32mreturn\u001b[0m \u001b[0msuper\u001b[0m\u001b[0;34m(\u001b[0m\u001b[0;34m)\u001b[0m\u001b[0;34m.\u001b[0m\u001b[0m__call__\u001b[0m\u001b[0;34m(\u001b[0m\u001b[0miterable_with_config\u001b[0m\u001b[0;34m)\u001b[0m\u001b[0;34m\u001b[0m\u001b[0;34m\u001b[0m\u001b[0m\n\u001b[0m\u001b[1;32m     64\u001b[0m \u001b[0;34m\u001b[0m\u001b[0m\n\u001b[1;32m     65\u001b[0m \u001b[0;34m\u001b[0m\u001b[0m\n",
            "\u001b[0;32m/usr/local/lib/python3.10/dist-packages/joblib/parallel.py\u001b[0m in \u001b[0;36m__call__\u001b[0;34m(self, iterable)\u001b[0m\n\u001b[1;32m   1861\u001b[0m             \u001b[0moutput\u001b[0m \u001b[0;34m=\u001b[0m \u001b[0mself\u001b[0m\u001b[0;34m.\u001b[0m\u001b[0m_get_sequential_output\u001b[0m\u001b[0;34m(\u001b[0m\u001b[0miterable\u001b[0m\u001b[0;34m)\u001b[0m\u001b[0;34m\u001b[0m\u001b[0;34m\u001b[0m\u001b[0m\n\u001b[1;32m   1862\u001b[0m             \u001b[0mnext\u001b[0m\u001b[0;34m(\u001b[0m\u001b[0moutput\u001b[0m\u001b[0;34m)\u001b[0m\u001b[0;34m\u001b[0m\u001b[0;34m\u001b[0m\u001b[0m\n\u001b[0;32m-> 1863\u001b[0;31m             \u001b[0;32mreturn\u001b[0m \u001b[0moutput\u001b[0m \u001b[0;32mif\u001b[0m \u001b[0mself\u001b[0m\u001b[0;34m.\u001b[0m\u001b[0mreturn_generator\u001b[0m \u001b[0;32melse\u001b[0m \u001b[0mlist\u001b[0m\u001b[0;34m(\u001b[0m\u001b[0moutput\u001b[0m\u001b[0;34m)\u001b[0m\u001b[0;34m\u001b[0m\u001b[0;34m\u001b[0m\u001b[0m\n\u001b[0m\u001b[1;32m   1864\u001b[0m \u001b[0;34m\u001b[0m\u001b[0m\n\u001b[1;32m   1865\u001b[0m         \u001b[0;31m# Let's create an ID that uniquely identifies the current call. If the\u001b[0m\u001b[0;34m\u001b[0m\u001b[0;34m\u001b[0m\u001b[0m\n",
            "\u001b[0;32m/usr/local/lib/python3.10/dist-packages/joblib/parallel.py\u001b[0m in \u001b[0;36m_get_sequential_output\u001b[0;34m(self, iterable)\u001b[0m\n\u001b[1;32m   1790\u001b[0m                 \u001b[0mself\u001b[0m\u001b[0;34m.\u001b[0m\u001b[0mn_dispatched_batches\u001b[0m \u001b[0;34m+=\u001b[0m \u001b[0;36m1\u001b[0m\u001b[0;34m\u001b[0m\u001b[0;34m\u001b[0m\u001b[0m\n\u001b[1;32m   1791\u001b[0m                 \u001b[0mself\u001b[0m\u001b[0;34m.\u001b[0m\u001b[0mn_dispatched_tasks\u001b[0m \u001b[0;34m+=\u001b[0m \u001b[0;36m1\u001b[0m\u001b[0;34m\u001b[0m\u001b[0;34m\u001b[0m\u001b[0m\n\u001b[0;32m-> 1792\u001b[0;31m                 \u001b[0mres\u001b[0m \u001b[0;34m=\u001b[0m \u001b[0mfunc\u001b[0m\u001b[0;34m(\u001b[0m\u001b[0;34m*\u001b[0m\u001b[0margs\u001b[0m\u001b[0;34m,\u001b[0m \u001b[0;34m**\u001b[0m\u001b[0mkwargs\u001b[0m\u001b[0;34m)\u001b[0m\u001b[0;34m\u001b[0m\u001b[0;34m\u001b[0m\u001b[0m\n\u001b[0m\u001b[1;32m   1793\u001b[0m                 \u001b[0mself\u001b[0m\u001b[0;34m.\u001b[0m\u001b[0mn_completed_tasks\u001b[0m \u001b[0;34m+=\u001b[0m \u001b[0;36m1\u001b[0m\u001b[0;34m\u001b[0m\u001b[0;34m\u001b[0m\u001b[0m\n\u001b[1;32m   1794\u001b[0m                 \u001b[0mself\u001b[0m\u001b[0;34m.\u001b[0m\u001b[0mprint_progress\u001b[0m\u001b[0;34m(\u001b[0m\u001b[0;34m)\u001b[0m\u001b[0;34m\u001b[0m\u001b[0;34m\u001b[0m\u001b[0m\n",
            "\u001b[0;32m/usr/local/lib/python3.10/dist-packages/sklearn/utils/parallel.py\u001b[0m in \u001b[0;36m__call__\u001b[0;34m(self, *args, **kwargs)\u001b[0m\n\u001b[1;32m    121\u001b[0m             \u001b[0mconfig\u001b[0m \u001b[0;34m=\u001b[0m \u001b[0;34m{\u001b[0m\u001b[0;34m}\u001b[0m\u001b[0;34m\u001b[0m\u001b[0;34m\u001b[0m\u001b[0m\n\u001b[1;32m    122\u001b[0m         \u001b[0;32mwith\u001b[0m \u001b[0mconfig_context\u001b[0m\u001b[0;34m(\u001b[0m\u001b[0;34m**\u001b[0m\u001b[0mconfig\u001b[0m\u001b[0;34m)\u001b[0m\u001b[0;34m:\u001b[0m\u001b[0;34m\u001b[0m\u001b[0;34m\u001b[0m\u001b[0m\n\u001b[0;32m--> 123\u001b[0;31m             \u001b[0;32mreturn\u001b[0m \u001b[0mself\u001b[0m\u001b[0;34m.\u001b[0m\u001b[0mfunction\u001b[0m\u001b[0;34m(\u001b[0m\u001b[0;34m*\u001b[0m\u001b[0margs\u001b[0m\u001b[0;34m,\u001b[0m \u001b[0;34m**\u001b[0m\u001b[0mkwargs\u001b[0m\u001b[0;34m)\u001b[0m\u001b[0;34m\u001b[0m\u001b[0;34m\u001b[0m\u001b[0m\n\u001b[0m",
            "\u001b[0;32m/usr/local/lib/python3.10/dist-packages/sklearn/model_selection/_validation.py\u001b[0m in \u001b[0;36m_fit_and_score\u001b[0;34m(estimator, X, y, scorer, train, test, verbose, parameters, fit_params, return_train_score, return_parameters, return_n_test_samples, return_times, return_estimator, split_progress, candidate_progress, error_score)\u001b[0m\n\u001b[1;32m    672\u001b[0m             \u001b[0mcloned_parameters\u001b[0m\u001b[0;34m[\u001b[0m\u001b[0mk\u001b[0m\u001b[0;34m]\u001b[0m \u001b[0;34m=\u001b[0m \u001b[0mclone\u001b[0m\u001b[0;34m(\u001b[0m\u001b[0mv\u001b[0m\u001b[0;34m,\u001b[0m \u001b[0msafe\u001b[0m\u001b[0;34m=\u001b[0m\u001b[0;32mFalse\u001b[0m\u001b[0;34m)\u001b[0m\u001b[0;34m\u001b[0m\u001b[0;34m\u001b[0m\u001b[0m\n\u001b[1;32m    673\u001b[0m \u001b[0;34m\u001b[0m\u001b[0m\n\u001b[0;32m--> 674\u001b[0;31m         \u001b[0mestimator\u001b[0m \u001b[0;34m=\u001b[0m \u001b[0mestimator\u001b[0m\u001b[0;34m.\u001b[0m\u001b[0mset_params\u001b[0m\u001b[0;34m(\u001b[0m\u001b[0;34m**\u001b[0m\u001b[0mcloned_parameters\u001b[0m\u001b[0;34m)\u001b[0m\u001b[0;34m\u001b[0m\u001b[0;34m\u001b[0m\u001b[0m\n\u001b[0m\u001b[1;32m    675\u001b[0m \u001b[0;34m\u001b[0m\u001b[0m\n\u001b[1;32m    676\u001b[0m     \u001b[0mstart_time\u001b[0m \u001b[0;34m=\u001b[0m \u001b[0mtime\u001b[0m\u001b[0;34m.\u001b[0m\u001b[0mtime\u001b[0m\u001b[0;34m(\u001b[0m\u001b[0;34m)\u001b[0m\u001b[0;34m\u001b[0m\u001b[0;34m\u001b[0m\u001b[0m\n",
            "\u001b[0;32m/usr/local/lib/python3.10/dist-packages/scikeras/wrappers.py\u001b[0m in \u001b[0;36mset_params\u001b[0;34m(self, **params)\u001b[0m\n\u001b[1;32m   1163\u001b[0m                     \u001b[0;31m# Give a SciKeras specific user message to aid\u001b[0m\u001b[0;34m\u001b[0m\u001b[0;34m\u001b[0m\u001b[0m\n\u001b[1;32m   1164\u001b[0m                     \u001b[0;31m# in moving from the Keras wrappers\u001b[0m\u001b[0;34m\u001b[0m\u001b[0;34m\u001b[0m\u001b[0m\n\u001b[0;32m-> 1165\u001b[0;31m                     raise ValueError(\n\u001b[0m\u001b[1;32m   1166\u001b[0m                         \u001b[0;34mf\"Invalid parameter {param} for estimator {self.__name__}.\"\u001b[0m\u001b[0;34m\u001b[0m\u001b[0;34m\u001b[0m\u001b[0m\n\u001b[1;32m   1167\u001b[0m                         \u001b[0;34m\"\\nThis issue can likely be resolved by setting this parameter\"\u001b[0m\u001b[0;34m\u001b[0m\u001b[0;34m\u001b[0m\u001b[0m\n",
            "\u001b[0;31mValueError\u001b[0m: Invalid parameter num_layers for estimator KerasClassifier.\nThis issue can likely be resolved by setting this parameter in the KerasClassifier constructor:\n`KerasClassifier(num_layers=1)`\nCheck the list of available parameters with `estimator.get_params().keys()`"
          ]
        }
      ]
    },
    {
      "cell_type": "code",
      "source": [
        "\n",
        "# Print the best parameters and the corresponding accuracy\n",
        "print(\"Best parameters found: \", grid_result.best_params_)\n",
        "print(\"Best accuracy found: \", grid_result.best_score_)\n"
      ],
      "metadata": {
        "id": "q6Bi4pyVknev"
      },
      "execution_count": null,
      "outputs": []
    },
    {
      "cell_type": "markdown",
      "source": [
        "## Hyperparameter tuning - method 2"
      ],
      "metadata": {
        "id": "BdOdJYxmthJ4"
      }
    },
    {
      "cell_type": "code",
      "source": [
        "import tensorflow as tf\n",
        "from tensorflow import keras"
      ],
      "metadata": {
        "id": "iCWq8wNetgVg"
      },
      "execution_count": null,
      "outputs": []
    },
    {
      "cell_type": "code",
      "source": [
        "!pip install -q -U keras-tuner"
      ],
      "metadata": {
        "colab": {
          "base_uri": "https://localhost:8080/"
        },
        "id": "RkJOc-SpttQa",
        "outputId": "65d25bbf-83fc-44ab-9ece-2ed41194ad85"
      },
      "execution_count": null,
      "outputs": [
        {
          "output_type": "stream",
          "name": "stdout",
          "text": [
            "\u001b[?25l     \u001b[90m━━━━━━━━━━━━━━━━━━━━━━━━━━━━━━━━━━━━━━━━\u001b[0m \u001b[32m0.0/128.9 kB\u001b[0m \u001b[31m?\u001b[0m eta \u001b[36m-:--:--\u001b[0m\r\u001b[2K     \u001b[91m━━━━━━━━━\u001b[0m\u001b[91m╸\u001b[0m\u001b[90m━━━━━━━━━━━━━━━━━━━━━━━━━━━━━━\u001b[0m \u001b[32m30.7/128.9 kB\u001b[0m \u001b[31m1.1 MB/s\u001b[0m eta \u001b[36m0:00:01\u001b[0m\r\u001b[2K     \u001b[91m━━━━━━━━━━━━━━━━━━━━━━━━━━━━\u001b[0m\u001b[91m╸\u001b[0m\u001b[90m━━━━━━━━━━━\u001b[0m \u001b[32m92.2/128.9 kB\u001b[0m \u001b[31m1.3 MB/s\u001b[0m eta \u001b[36m0:00:01\u001b[0m\r\u001b[2K     \u001b[90m━━━━━━━━━━━━━━━━━━━━━━━━━━━━━━━━━━━━━━━━\u001b[0m \u001b[32m128.9/128.9 kB\u001b[0m \u001b[31m1.4 MB/s\u001b[0m eta \u001b[36m0:00:00\u001b[0m\n",
            "\u001b[?25h"
          ]
        }
      ]
    },
    {
      "cell_type": "code",
      "source": [
        "import keras_tuner as kt"
      ],
      "metadata": {
        "id": "TaPx8uistvty"
      },
      "execution_count": null,
      "outputs": []
    },
    {
      "cell_type": "code",
      "source": [
        "def model_builder(hp):\n",
        "  model = keras.Sequential()\n",
        "\n",
        "  # Tune the number of units in the first Dense layer\n",
        "  # Choose an optimal value between 32-512\n",
        "  hp_units_l1 = hp.Int('units', min_value=32, max_value=512, step=32)\n",
        "  model.add(keras.layers.Dense(units=hp_units_l1, activation='relu'))\n",
        "\n",
        "  # Tune the number of units in the second Dense layer\n",
        "  # Choose an optimal value between 32-512\n",
        "  hp_units_l2 = hp.Int('units', min_value=64, max_value=256, step=32)\n",
        "  model.add(keras.layers.Dense(units=hp_units_l2, activation='relu'))\n",
        "  model.add(keras.layers.Dense(units=25, activation='softmax'))\n",
        "\n",
        "  # Tune the learning rate for the optimizer\n",
        "  # Choose an optimal value from 0.01, 0.001, or 0.0001\n",
        "  hp_learning_rate = hp.Choice('learning_rate', values=[1e-2, 1e-3, 1e-4])\n",
        "\n",
        "  model.compile(optimizer=keras.optimizers.Adam(learning_rate=hp_learning_rate),\n",
        "                loss=keras.losses.SparseCategoricalCrossentropy(from_logits=True),\n",
        "                metrics=['accuracy'])\n",
        "\n",
        "  return model"
      ],
      "metadata": {
        "id": "KbZXA3CYt9bL"
      },
      "execution_count": null,
      "outputs": []
    },
    {
      "cell_type": "code",
      "source": [
        "tuner = kt.Hyperband(model_builder,\n",
        "                     objective='val_accuracy',\n",
        "                     max_epochs=10,\n",
        "                     factor=3,\n",
        "                     directory='my_dir',\n",
        "                     project_name='intro_to_kt')"
      ],
      "metadata": {
        "colab": {
          "base_uri": "https://localhost:8080/"
        },
        "id": "LsLVvcfau6kt",
        "outputId": "32977fb2-4c92-4837-b451-6efe01f05686"
      },
      "execution_count": null,
      "outputs": [
        {
          "output_type": "stream",
          "name": "stdout",
          "text": [
            "Reloading Tuner from my_dir/intro_to_kt/tuner0.json\n"
          ]
        }
      ]
    },
    {
      "cell_type": "code",
      "source": [
        "stop_early = tf.keras.callbacks.EarlyStopping(monitor='val_loss', patience=5)"
      ],
      "metadata": {
        "id": "MQqFmLfYu_rm"
      },
      "execution_count": null,
      "outputs": []
    },
    {
      "cell_type": "code",
      "source": [
        "tuner.search(X_train, y_train_encoded, validation_data=(X_valid, y_valid_encoded), epochs=50, callbacks=[stop_early])\n",
        "\n",
        "# Get the optimal hyperparameters\n",
        "best_hps=tuner.get_best_hyperparameters(num_trials=1)[0]\n",
        "\n",
        "print(f\"\"\"\n",
        "The hyperparameter search is complete. The optimal number of units in the first densely-connected\n",
        "layer is {best_hps.get('units')} and the optimal number of units in the second densely-connected\n",
        "layer is {best_hps.get('units')} and the optimal learning rate for the optimizer\n",
        "is {best_hps.get('learning_rate')}.\n",
        "\"\"\")"
      ],
      "metadata": {
        "colab": {
          "base_uri": "https://localhost:8080/"
        },
        "id": "uwxxuNIfvHtO",
        "outputId": "c7a0ab0a-434a-4ded-9d3e-f71d3dce823c"
      },
      "execution_count": null,
      "outputs": [
        {
          "output_type": "stream",
          "name": "stdout",
          "text": [
            "\n",
            "The hyperparameter search is complete. The optimal number of units in the first densely-connected\n",
            "layer is 480 and the optimal number of units in the second densely-connected\n",
            "layer is 480 and the optimal learning rate for the optimizer\n",
            "is 0.001.\n",
            "\n"
          ]
        }
      ]
    },
    {
      "cell_type": "code",
      "source": [
        "# Build the model with the optimal hyperparameters and train it on the data for 50 epochs\n",
        "model = tuner.hypermodel.build(best_hps)\n",
        "history = model.fit(X_train, y_train_encoded, validation_data=(X_valid, y_valid_encoded), epochs=50)\n",
        "\n",
        "val_acc_per_epoch = history.history['val_accuracy']\n",
        "best_epoch = val_acc_per_epoch.index(max(val_acc_per_epoch)) + 1\n",
        "print('Best epoch: %d' % (best_epoch,))"
      ],
      "metadata": {
        "colab": {
          "base_uri": "https://localhost:8080/"
        },
        "id": "9MvDUCqLviTg",
        "outputId": "17cbd065-4d34-4277-b5e3-1df517eb8397"
      },
      "execution_count": null,
      "outputs": [
        {
          "output_type": "stream",
          "name": "stdout",
          "text": [
            "Epoch 1/50\n"
          ]
        },
        {
          "output_type": "stream",
          "name": "stderr",
          "text": [
            "/usr/local/lib/python3.10/dist-packages/keras/src/backend.py:5727: UserWarning: \"`sparse_categorical_crossentropy` received `from_logits=True`, but the `output` argument was produced by a Softmax activation and thus does not represent logits. Was this intended?\n",
            "  output, from_logits = _get_logits(\n"
          ]
        },
        {
          "output_type": "stream",
          "name": "stdout",
          "text": [
            "30/30 [==============================] - 1s 9ms/step - loss: 3.2052 - accuracy: 0.0652 - val_loss: 3.1409 - val_accuracy: 0.0798\n",
            "Epoch 2/50\n",
            "27/30 [==========================>...] - ETA: 0s - loss: 3.0988 - accuracy: 0.1215"
          ]
        },
        {
          "output_type": "stream",
          "name": "stderr",
          "text": [
            "/usr/local/lib/python3.10/dist-packages/keras/src/backend.py:5727: UserWarning: \"`sparse_categorical_crossentropy` received `from_logits=True`, but the `output` argument was produced by a Softmax activation and thus does not represent logits. Was this intended?\n",
            "  output, from_logits = _get_logits(\n"
          ]
        },
        {
          "output_type": "stream",
          "name": "stdout",
          "text": [
            "\b\b\b\b\b\b\b\b\b\b\b\b\b\b\b\b\b\b\b\b\b\b\b\b\b\b\b\b\b\b\b\b\b\b\b\b\b\b\b\b\b\b\b\b\b\b\b\b\b\b\b\b\b\b\b\b\b\b\b\b\b\b\b\b\b\b\b\b\b\b\b\b\b\b\b\b\b\b\b\b\b\b\r30/30 [==============================] - 0s 4ms/step - loss: 3.0903 - accuracy: 0.1272 - val_loss: 3.0198 - val_accuracy: 0.1471\n",
            "Epoch 3/50\n",
            "30/30 [==============================] - 0s 3ms/step - loss: 2.9309 - accuracy: 0.1714 - val_loss: 2.8574 - val_accuracy: 0.1681\n",
            "Epoch 4/50\n",
            "30/30 [==============================] - 0s 4ms/step - loss: 2.7357 - accuracy: 0.2324 - val_loss: 2.6486 - val_accuracy: 0.2437\n",
            "Epoch 5/50\n",
            "30/30 [==============================] - 0s 3ms/step - loss: 2.5144 - accuracy: 0.3333 - val_loss: 2.4579 - val_accuracy: 0.3193\n",
            "Epoch 6/50\n",
            "30/30 [==============================] - 0s 3ms/step - loss: 2.3135 - accuracy: 0.3491 - val_loss: 2.2704 - val_accuracy: 0.4076\n",
            "Epoch 7/50\n",
            "30/30 [==============================] - 0s 4ms/step - loss: 2.1338 - accuracy: 0.4479 - val_loss: 2.1079 - val_accuracy: 0.4202\n",
            "Epoch 8/50\n",
            "30/30 [==============================] - 0s 4ms/step - loss: 1.9724 - accuracy: 0.4974 - val_loss: 1.9465 - val_accuracy: 0.5084\n",
            "Epoch 9/50\n",
            "30/30 [==============================] - 0s 4ms/step - loss: 1.8243 - accuracy: 0.5237 - val_loss: 1.8163 - val_accuracy: 0.5378\n",
            "Epoch 10/50\n",
            "30/30 [==============================] - 0s 3ms/step - loss: 1.7014 - accuracy: 0.5741 - val_loss: 1.6850 - val_accuracy: 0.5630\n",
            "Epoch 11/50\n",
            "30/30 [==============================] - 0s 3ms/step - loss: 1.5867 - accuracy: 0.5836 - val_loss: 1.5846 - val_accuracy: 0.5126\n",
            "Epoch 12/50\n",
            "30/30 [==============================] - 0s 3ms/step - loss: 1.4868 - accuracy: 0.6067 - val_loss: 1.4710 - val_accuracy: 0.6092\n",
            "Epoch 13/50\n",
            "30/30 [==============================] - 0s 3ms/step - loss: 1.3829 - accuracy: 0.6456 - val_loss: 1.3863 - val_accuracy: 0.6261\n",
            "Epoch 14/50\n",
            "30/30 [==============================] - 0s 3ms/step - loss: 1.3117 - accuracy: 0.6614 - val_loss: 1.3284 - val_accuracy: 0.6303\n",
            "Epoch 15/50\n",
            "30/30 [==============================] - 0s 3ms/step - loss: 1.2182 - accuracy: 0.6940 - val_loss: 1.2252 - val_accuracy: 0.6555\n",
            "Epoch 16/50\n",
            "30/30 [==============================] - 0s 3ms/step - loss: 1.1620 - accuracy: 0.6993 - val_loss: 1.1856 - val_accuracy: 0.6345\n",
            "Epoch 17/50\n",
            "30/30 [==============================] - 0s 4ms/step - loss: 1.0963 - accuracy: 0.7192 - val_loss: 1.1056 - val_accuracy: 0.6765\n",
            "Epoch 18/50\n",
            "30/30 [==============================] - 0s 3ms/step - loss: 1.0462 - accuracy: 0.7287 - val_loss: 1.0583 - val_accuracy: 0.7185\n",
            "Epoch 19/50\n",
            "30/30 [==============================] - 0s 3ms/step - loss: 0.9875 - accuracy: 0.7424 - val_loss: 1.0105 - val_accuracy: 0.7101\n",
            "Epoch 20/50\n",
            "30/30 [==============================] - 0s 4ms/step - loss: 0.9428 - accuracy: 0.7508 - val_loss: 0.9525 - val_accuracy: 0.7311\n",
            "Epoch 21/50\n",
            "30/30 [==============================] - 0s 3ms/step - loss: 0.9000 - accuracy: 0.7687 - val_loss: 0.9039 - val_accuracy: 0.7437\n",
            "Epoch 22/50\n",
            "30/30 [==============================] - 0s 3ms/step - loss: 0.8482 - accuracy: 0.7897 - val_loss: 0.8719 - val_accuracy: 0.7689\n",
            "Epoch 23/50\n",
            "30/30 [==============================] - 0s 4ms/step - loss: 0.8167 - accuracy: 0.8055 - val_loss: 0.8403 - val_accuracy: 0.7899\n",
            "Epoch 24/50\n",
            "30/30 [==============================] - 0s 3ms/step - loss: 0.7955 - accuracy: 0.8076 - val_loss: 0.8162 - val_accuracy: 0.8151\n",
            "Epoch 25/50\n",
            "30/30 [==============================] - 0s 3ms/step - loss: 0.7648 - accuracy: 0.8086 - val_loss: 0.7874 - val_accuracy: 0.7857\n",
            "Epoch 26/50\n",
            "30/30 [==============================] - 0s 4ms/step - loss: 0.7404 - accuracy: 0.8065 - val_loss: 0.7950 - val_accuracy: 0.7689\n",
            "Epoch 27/50\n",
            "30/30 [==============================] - 0s 3ms/step - loss: 0.7222 - accuracy: 0.8275 - val_loss: 0.7818 - val_accuracy: 0.7605\n",
            "Epoch 28/50\n",
            "30/30 [==============================] - 0s 3ms/step - loss: 0.6824 - accuracy: 0.8254 - val_loss: 0.7406 - val_accuracy: 0.7815\n",
            "Epoch 29/50\n",
            "30/30 [==============================] - 0s 3ms/step - loss: 0.6732 - accuracy: 0.8318 - val_loss: 0.7120 - val_accuracy: 0.7731\n",
            "Epoch 30/50\n",
            "30/30 [==============================] - 0s 4ms/step - loss: 0.6413 - accuracy: 0.8318 - val_loss: 0.6791 - val_accuracy: 0.7941\n",
            "Epoch 31/50\n",
            "30/30 [==============================] - 0s 4ms/step - loss: 0.6257 - accuracy: 0.8402 - val_loss: 0.6512 - val_accuracy: 0.8319\n",
            "Epoch 32/50\n",
            "30/30 [==============================] - 0s 4ms/step - loss: 0.6109 - accuracy: 0.8339 - val_loss: 0.6573 - val_accuracy: 0.8319\n",
            "Epoch 33/50\n",
            "30/30 [==============================] - 0s 3ms/step - loss: 0.5893 - accuracy: 0.8496 - val_loss: 0.6152 - val_accuracy: 0.8445\n",
            "Epoch 34/50\n",
            "30/30 [==============================] - 0s 3ms/step - loss: 0.5717 - accuracy: 0.8538 - val_loss: 0.6316 - val_accuracy: 0.8067\n",
            "Epoch 35/50\n",
            "30/30 [==============================] - 0s 3ms/step - loss: 0.5644 - accuracy: 0.8423 - val_loss: 0.5877 - val_accuracy: 0.8361\n",
            "Epoch 36/50\n",
            "30/30 [==============================] - 0s 4ms/step - loss: 0.5487 - accuracy: 0.8633 - val_loss: 0.6012 - val_accuracy: 0.8109\n",
            "Epoch 37/50\n",
            "30/30 [==============================] - 0s 3ms/step - loss: 0.5489 - accuracy: 0.8433 - val_loss: 0.5791 - val_accuracy: 0.8109\n",
            "Epoch 38/50\n",
            "30/30 [==============================] - 0s 3ms/step - loss: 0.5342 - accuracy: 0.8549 - val_loss: 0.5658 - val_accuracy: 0.8403\n",
            "Epoch 39/50\n",
            "30/30 [==============================] - 0s 3ms/step - loss: 0.5157 - accuracy: 0.8633 - val_loss: 0.5742 - val_accuracy: 0.8151\n",
            "Epoch 40/50\n",
            "30/30 [==============================] - 0s 3ms/step - loss: 0.5088 - accuracy: 0.8612 - val_loss: 0.5507 - val_accuracy: 0.8361\n",
            "Epoch 41/50\n",
            "30/30 [==============================] - 0s 3ms/step - loss: 0.4973 - accuracy: 0.8559 - val_loss: 0.5549 - val_accuracy: 0.8277\n",
            "Epoch 42/50\n",
            "30/30 [==============================] - 0s 3ms/step - loss: 0.4825 - accuracy: 0.8623 - val_loss: 0.5283 - val_accuracy: 0.8235\n",
            "Epoch 43/50\n",
            "30/30 [==============================] - 0s 3ms/step - loss: 0.4699 - accuracy: 0.8717 - val_loss: 0.5357 - val_accuracy: 0.8361\n",
            "Epoch 44/50\n",
            "30/30 [==============================] - 0s 3ms/step - loss: 0.4651 - accuracy: 0.8686 - val_loss: 0.5357 - val_accuracy: 0.8361\n",
            "Epoch 45/50\n",
            "30/30 [==============================] - 0s 4ms/step - loss: 0.4581 - accuracy: 0.8780 - val_loss: 0.5177 - val_accuracy: 0.8403\n",
            "Epoch 46/50\n",
            "30/30 [==============================] - 0s 3ms/step - loss: 0.4483 - accuracy: 0.8696 - val_loss: 0.5298 - val_accuracy: 0.8445\n",
            "Epoch 47/50\n",
            "30/30 [==============================] - 0s 4ms/step - loss: 0.4473 - accuracy: 0.8665 - val_loss: 0.5046 - val_accuracy: 0.8487\n",
            "Epoch 48/50\n",
            "30/30 [==============================] - 0s 3ms/step - loss: 0.4346 - accuracy: 0.8749 - val_loss: 0.4931 - val_accuracy: 0.8445\n",
            "Epoch 49/50\n",
            "30/30 [==============================] - 0s 3ms/step - loss: 0.4248 - accuracy: 0.8759 - val_loss: 0.4933 - val_accuracy: 0.8445\n",
            "Epoch 50/50\n",
            "30/30 [==============================] - 0s 5ms/step - loss: 0.4233 - accuracy: 0.8707 - val_loss: 0.5143 - val_accuracy: 0.8319\n",
            "Best epoch: 47\n"
          ]
        }
      ]
    },
    {
      "cell_type": "code",
      "source": [
        "hypermodel = tuner.hypermodel.build(best_hps)\n",
        "\n",
        "# Retrain the model\n",
        "hypermodel.fit(X_train, y_train_encoded, validation_data=(X_valid, y_valid_encoded), epochs=best_epoch)"
      ],
      "metadata": {
        "colab": {
          "base_uri": "https://localhost:8080/"
        },
        "id": "oHYFfdHIxMdf",
        "outputId": "2001f4da-2611-4d4f-d7d2-96966159432d"
      },
      "execution_count": null,
      "outputs": [
        {
          "output_type": "stream",
          "name": "stdout",
          "text": [
            "Epoch 1/47\n"
          ]
        },
        {
          "output_type": "stream",
          "name": "stderr",
          "text": [
            "/usr/local/lib/python3.10/dist-packages/keras/src/backend.py:5727: UserWarning: \"`sparse_categorical_crossentropy` received `from_logits=True`, but the `output` argument was produced by a Softmax activation and thus does not represent logits. Was this intended?\n",
            "  output, from_logits = _get_logits(\n"
          ]
        },
        {
          "output_type": "stream",
          "name": "stdout",
          "text": [
            "30/30 [==============================] - 1s 9ms/step - loss: 3.1964 - accuracy: 0.0589 - val_loss: 3.1437 - val_accuracy: 0.0966\n",
            "Epoch 2/47\n",
            "21/30 [====================>.........] - ETA: 0s - loss: 3.0943 - accuracy: 0.1220"
          ]
        },
        {
          "output_type": "stream",
          "name": "stderr",
          "text": [
            "/usr/local/lib/python3.10/dist-packages/keras/src/backend.py:5727: UserWarning: \"`sparse_categorical_crossentropy` received `from_logits=True`, but the `output` argument was produced by a Softmax activation and thus does not represent logits. Was this intended?\n",
            "  output, from_logits = _get_logits(\n"
          ]
        },
        {
          "output_type": "stream",
          "name": "stdout",
          "text": [
            "\b\b\b\b\b\b\b\b\b\b\b\b\b\b\b\b\b\b\b\b\b\b\b\b\b\b\b\b\b\b\b\b\b\b\b\b\b\b\b\b\b\b\b\b\b\b\b\b\b\b\b\b\b\b\b\b\b\b\b\b\b\b\b\b\b\b\b\b\b\b\b\b\b\b\b\b\b\b\b\b\b\b\r30/30 [==============================] - 0s 4ms/step - loss: 3.0728 - accuracy: 0.1178 - val_loss: 3.0228 - val_accuracy: 0.1345\n",
            "Epoch 3/47\n",
            "30/30 [==============================] - 0s 4ms/step - loss: 2.9231 - accuracy: 0.2019 - val_loss: 2.8466 - val_accuracy: 0.2437\n",
            "Epoch 4/47\n",
            "30/30 [==============================] - 0s 4ms/step - loss: 2.7157 - accuracy: 0.2871 - val_loss: 2.6209 - val_accuracy: 0.2647\n",
            "Epoch 5/47\n",
            "30/30 [==============================] - 0s 4ms/step - loss: 2.4826 - accuracy: 0.3291 - val_loss: 2.3888 - val_accuracy: 0.4496\n",
            "Epoch 6/47\n",
            "30/30 [==============================] - 0s 4ms/step - loss: 2.2482 - accuracy: 0.4217 - val_loss: 2.1807 - val_accuracy: 0.4790\n",
            "Epoch 7/47\n",
            "30/30 [==============================] - 0s 3ms/step - loss: 2.0370 - accuracy: 0.4606 - val_loss: 1.9748 - val_accuracy: 0.5420\n",
            "Epoch 8/47\n",
            "30/30 [==============================] - 0s 4ms/step - loss: 1.8551 - accuracy: 0.5121 - val_loss: 1.8440 - val_accuracy: 0.5126\n",
            "Epoch 9/47\n",
            "30/30 [==============================] - 0s 3ms/step - loss: 1.6956 - accuracy: 0.5542 - val_loss: 1.6816 - val_accuracy: 0.5126\n",
            "Epoch 10/47\n",
            "30/30 [==============================] - 0s 4ms/step - loss: 1.5612 - accuracy: 0.5868 - val_loss: 1.5331 - val_accuracy: 0.6008\n",
            "Epoch 11/47\n",
            "30/30 [==============================] - 0s 3ms/step - loss: 1.4375 - accuracy: 0.6172 - val_loss: 1.4317 - val_accuracy: 0.5924\n",
            "Epoch 12/47\n",
            "30/30 [==============================] - 0s 4ms/step - loss: 1.3431 - accuracy: 0.6446 - val_loss: 1.3732 - val_accuracy: 0.5924\n",
            "Epoch 13/47\n",
            "30/30 [==============================] - 0s 4ms/step - loss: 1.2694 - accuracy: 0.6467 - val_loss: 1.2458 - val_accuracy: 0.6513\n",
            "Epoch 14/47\n",
            "30/30 [==============================] - 0s 3ms/step - loss: 1.1935 - accuracy: 0.6803 - val_loss: 1.2058 - val_accuracy: 0.6092\n",
            "Epoch 15/47\n",
            "30/30 [==============================] - 0s 4ms/step - loss: 1.1176 - accuracy: 0.7056 - val_loss: 1.1260 - val_accuracy: 0.6765\n",
            "Epoch 16/47\n",
            "30/30 [==============================] - 0s 4ms/step - loss: 1.0670 - accuracy: 0.7098 - val_loss: 1.1060 - val_accuracy: 0.6387\n",
            "Epoch 17/47\n",
            "30/30 [==============================] - 0s 4ms/step - loss: 1.0076 - accuracy: 0.7403 - val_loss: 1.0285 - val_accuracy: 0.6933\n",
            "Epoch 18/47\n",
            "30/30 [==============================] - 0s 4ms/step - loss: 0.9742 - accuracy: 0.7487 - val_loss: 0.9821 - val_accuracy: 0.6933\n",
            "Epoch 19/47\n",
            "30/30 [==============================] - 0s 3ms/step - loss: 0.9347 - accuracy: 0.7518 - val_loss: 0.9416 - val_accuracy: 0.6975\n",
            "Epoch 20/47\n",
            "30/30 [==============================] - 0s 3ms/step - loss: 0.9026 - accuracy: 0.7539 - val_loss: 0.8995 - val_accuracy: 0.7395\n",
            "Epoch 21/47\n",
            "30/30 [==============================] - 0s 4ms/step - loss: 0.8623 - accuracy: 0.7666 - val_loss: 0.8801 - val_accuracy: 0.7227\n",
            "Epoch 22/47\n",
            "30/30 [==============================] - 0s 4ms/step - loss: 0.8265 - accuracy: 0.7729 - val_loss: 0.8275 - val_accuracy: 0.7815\n",
            "Epoch 23/47\n",
            "30/30 [==============================] - 0s 3ms/step - loss: 0.7975 - accuracy: 0.7855 - val_loss: 0.8083 - val_accuracy: 0.7773\n",
            "Epoch 24/47\n",
            "30/30 [==============================] - 0s 4ms/step - loss: 0.7620 - accuracy: 0.7992 - val_loss: 0.7749 - val_accuracy: 0.8025\n",
            "Epoch 25/47\n",
            "30/30 [==============================] - 0s 3ms/step - loss: 0.7430 - accuracy: 0.8076 - val_loss: 0.7553 - val_accuracy: 0.7983\n",
            "Epoch 26/47\n",
            "30/30 [==============================] - 0s 3ms/step - loss: 0.7229 - accuracy: 0.8097 - val_loss: 0.7374 - val_accuracy: 0.7899\n",
            "Epoch 27/47\n",
            "30/30 [==============================] - 0s 4ms/step - loss: 0.6980 - accuracy: 0.8149 - val_loss: 0.7175 - val_accuracy: 0.8067\n",
            "Epoch 28/47\n",
            "30/30 [==============================] - 0s 3ms/step - loss: 0.6740 - accuracy: 0.8275 - val_loss: 0.6847 - val_accuracy: 0.8193\n",
            "Epoch 29/47\n",
            "30/30 [==============================] - 0s 3ms/step - loss: 0.6642 - accuracy: 0.8128 - val_loss: 0.6783 - val_accuracy: 0.8403\n",
            "Epoch 30/47\n",
            "30/30 [==============================] - 0s 4ms/step - loss: 0.6530 - accuracy: 0.8339 - val_loss: 0.6463 - val_accuracy: 0.8151\n",
            "Epoch 31/47\n",
            "30/30 [==============================] - 0s 4ms/step - loss: 0.6220 - accuracy: 0.8318 - val_loss: 0.6473 - val_accuracy: 0.8235\n",
            "Epoch 32/47\n",
            "30/30 [==============================] - 0s 4ms/step - loss: 0.6145 - accuracy: 0.8170 - val_loss: 0.6186 - val_accuracy: 0.8235\n",
            "Epoch 33/47\n",
            "30/30 [==============================] - 0s 4ms/step - loss: 0.5975 - accuracy: 0.8381 - val_loss: 0.6070 - val_accuracy: 0.8403\n",
            "Epoch 34/47\n",
            "30/30 [==============================] - 0s 3ms/step - loss: 0.5871 - accuracy: 0.8444 - val_loss: 0.6079 - val_accuracy: 0.8193\n",
            "Epoch 35/47\n",
            "30/30 [==============================] - 0s 3ms/step - loss: 0.5708 - accuracy: 0.8391 - val_loss: 0.5877 - val_accuracy: 0.8361\n",
            "Epoch 36/47\n",
            "30/30 [==============================] - 0s 3ms/step - loss: 0.5560 - accuracy: 0.8517 - val_loss: 0.5618 - val_accuracy: 0.8319\n",
            "Epoch 37/47\n",
            "30/30 [==============================] - 0s 4ms/step - loss: 0.5512 - accuracy: 0.8454 - val_loss: 0.5677 - val_accuracy: 0.8361\n",
            "Epoch 38/47\n",
            "30/30 [==============================] - 0s 4ms/step - loss: 0.5311 - accuracy: 0.8570 - val_loss: 0.5737 - val_accuracy: 0.8361\n",
            "Epoch 39/47\n",
            "30/30 [==============================] - 0s 4ms/step - loss: 0.5235 - accuracy: 0.8559 - val_loss: 0.5256 - val_accuracy: 0.8445\n",
            "Epoch 40/47\n",
            "30/30 [==============================] - 0s 3ms/step - loss: 0.5090 - accuracy: 0.8601 - val_loss: 0.5124 - val_accuracy: 0.8487\n",
            "Epoch 41/47\n",
            "30/30 [==============================] - 0s 3ms/step - loss: 0.4926 - accuracy: 0.8623 - val_loss: 0.5002 - val_accuracy: 0.8529\n",
            "Epoch 42/47\n",
            "30/30 [==============================] - 0s 3ms/step - loss: 0.4892 - accuracy: 0.8444 - val_loss: 0.5211 - val_accuracy: 0.8403\n",
            "Epoch 43/47\n",
            "30/30 [==============================] - 0s 3ms/step - loss: 0.4752 - accuracy: 0.8665 - val_loss: 0.5000 - val_accuracy: 0.8613\n",
            "Epoch 44/47\n",
            "30/30 [==============================] - 0s 3ms/step - loss: 0.4754 - accuracy: 0.8591 - val_loss: 0.4953 - val_accuracy: 0.8487\n",
            "Epoch 45/47\n",
            "30/30 [==============================] - 0s 4ms/step - loss: 0.4683 - accuracy: 0.8717 - val_loss: 0.4813 - val_accuracy: 0.8529\n",
            "Epoch 46/47\n",
            "30/30 [==============================] - 0s 3ms/step - loss: 0.4539 - accuracy: 0.8833 - val_loss: 0.4754 - val_accuracy: 0.8487\n",
            "Epoch 47/47\n",
            "30/30 [==============================] - 0s 3ms/step - loss: 0.4474 - accuracy: 0.8707 - val_loss: 0.4962 - val_accuracy: 0.8403\n"
          ]
        },
        {
          "output_type": "execute_result",
          "data": {
            "text/plain": [
              "<keras.src.callbacks.History at 0x7d4af44bbdc0>"
            ]
          },
          "metadata": {},
          "execution_count": 113
        }
      ]
    },
    {
      "cell_type": "code",
      "source": [
        "eval_result = hypermodel.evaluate(X_valid, y_valid_encoded)\n",
        "print(\"[test loss, test accuracy]:\", eval_result)"
      ],
      "metadata": {
        "colab": {
          "base_uri": "https://localhost:8080/",
          "height": 193
        },
        "id": "9JY7FxCRxeP0",
        "outputId": "a9ab8556-a55b-45d1-ffa1-420c816b2d47"
      },
      "execution_count": null,
      "outputs": [
        {
          "output_type": "error",
          "ename": "NameError",
          "evalue": "name 'hypermodel' is not defined",
          "traceback": [
            "\u001b[0;31m---------------------------------------------------------------------------\u001b[0m",
            "\u001b[0;31mNameError\u001b[0m                                 Traceback (most recent call last)",
            "\u001b[0;32m<ipython-input-1-be90cbc1195f>\u001b[0m in \u001b[0;36m<cell line: 1>\u001b[0;34m()\u001b[0m\n\u001b[0;32m----> 1\u001b[0;31m \u001b[0meval_result\u001b[0m \u001b[0;34m=\u001b[0m \u001b[0mhypermodel\u001b[0m\u001b[0;34m.\u001b[0m\u001b[0mevaluate\u001b[0m\u001b[0;34m(\u001b[0m\u001b[0mX_valid\u001b[0m\u001b[0;34m,\u001b[0m \u001b[0my_valid_encoded\u001b[0m\u001b[0;34m)\u001b[0m\u001b[0;34m\u001b[0m\u001b[0;34m\u001b[0m\u001b[0m\n\u001b[0m\u001b[1;32m      2\u001b[0m \u001b[0mprint\u001b[0m\u001b[0;34m(\u001b[0m\u001b[0;34m\"[test loss, test accuracy]:\"\u001b[0m\u001b[0;34m,\u001b[0m \u001b[0meval_result\u001b[0m\u001b[0;34m)\u001b[0m\u001b[0;34m\u001b[0m\u001b[0;34m\u001b[0m\u001b[0m\n",
            "\u001b[0;31mNameError\u001b[0m: name 'hypermodel' is not defined"
          ]
        }
      ]
    },
    {
      "cell_type": "markdown",
      "source": [
        "# MAML Approach"
      ],
      "metadata": {
        "id": "PZJBI027l6mI"
      }
    },
    {
      "cell_type": "code",
      "source": [
        "import numpy as np\n",
        "import tensorflow as tf\n",
        "from tensorflow.keras import layers, models, optimizers"
      ],
      "metadata": {
        "id": "0QSOTmIqmJrz"
      },
      "execution_count": null,
      "outputs": []
    },
    {
      "cell_type": "code",
      "source": [
        "#num_classes = 25"
      ],
      "metadata": {
        "id": "HIdkZYv3m6Zn"
      },
      "execution_count": null,
      "outputs": []
    },
    {
      "cell_type": "code",
      "source": [
        "# Define MAML model\n",
        "def get_maml_model():\n",
        "    # Create a meta-learner model\n",
        "    meta_model = models.Sequential([\n",
        "        layers.Dense(128, activation='relu'),\n",
        "        layers.Dense(64, activation='relu'),\n",
        "        layers.Dense(num_classes, activation='softmax')\n",
        "    ])\n",
        "\n",
        "    # Compile the meta-model\n",
        "    meta_model.compile(optimizer='adam', loss='categorical_crossentropy', metrics=['accuracy'])\n",
        "\n",
        "    return meta_model"
      ],
      "metadata": {
        "id": "TUas34rLl_GB"
      },
      "execution_count": null,
      "outputs": []
    },
    {
      "cell_type": "code",
      "source": [
        "# Define MAML training procedure\n",
        "def maml_train_step(model, support_set, query_set):\n",
        "    # Training step for one meta-batch\n",
        "    support_input, support_labels = support_set\n",
        "    query_input, query_labels = query_set\n",
        "\n",
        "    # Fine-tune the model on the support set\n",
        "    model.fit(support_input, support_labels, epochs=5, verbose=0)\n",
        "\n",
        "    # Evaluate on the query set\n",
        "    loss, accuracy = model.evaluate(query_input, query_labels, verbose=0)\n",
        "\n",
        "    return loss, accuracy"
      ],
      "metadata": {
        "id": "rWLUcdo0mfN-"
      },
      "execution_count": null,
      "outputs": []
    },
    {
      "cell_type": "code",
      "source": [
        "from tensorflow.keras.utils import to_categorical"
      ],
      "metadata": {
        "id": "XeJmwJtDpV-s"
      },
      "execution_count": null,
      "outputs": []
    },
    {
      "cell_type": "code",
      "source": [
        "# Convert labels to one-hot encoding\n",
        "num_classes = len(np.unique(y_train_encoded))\n",
        "labels_train_onehot = to_categorical(y_train_encoded, num_classes)\n",
        "labels_test_onehot = to_categorical(y_valid_encoded, num_classes)"
      ],
      "metadata": {
        "id": "Q3M9BjMinPtw"
      },
      "execution_count": null,
      "outputs": []
    },
    {
      "cell_type": "code",
      "source": [
        "# Print information about the dataset\n",
        "print(f\"Number of classes: {num_classes}\")\n",
        "print(f\"Number of training samples: {len(X_train)}\")\n",
        "print(f\"Number of testing samples: {len(X_valid)}\")"
      ],
      "metadata": {
        "colab": {
          "base_uri": "https://localhost:8080/"
        },
        "id": "6TBBpjs4piqn",
        "outputId": "68723818-0705-4b7c-8f51-61aea8cf0c84"
      },
      "execution_count": null,
      "outputs": [
        {
          "output_type": "stream",
          "name": "stdout",
          "text": [
            "Number of classes: 25\n",
            "Number of training samples: 951\n",
            "Number of testing samples: 238\n"
          ]
        }
      ]
    },
    {
      "cell_type": "code",
      "source": [
        "# Split the dataset into meta-training and meta-testing sets\n",
        "meta_train_data = (X_train, labels_train_onehot)\n",
        "meta_test_data = (X_valid, labels_test_onehot)"
      ],
      "metadata": {
        "id": "2ClHzGeoqoXV"
      },
      "execution_count": null,
      "outputs": []
    },
    {
      "cell_type": "code",
      "source": [
        "# Create a MAML model\n",
        "maml_model = get_maml_model()"
      ],
      "metadata": {
        "id": "dhMaoLFuqzc3"
      },
      "execution_count": null,
      "outputs": []
    },
    {
      "cell_type": "code",
      "source": [
        "# Number of meta-batches and meta-iterations\n",
        "num_meta_batches = 100\n",
        "num_meta_iterations = 5"
      ],
      "metadata": {
        "id": "dDpCWKU9q83g"
      },
      "execution_count": null,
      "outputs": []
    },
    {
      "cell_type": "code",
      "source": [
        " import random\n",
        "\n",
        "def sample_meta_batch(meta_data, batch_size=5):\n",
        "    # meta_data is a tuple containing images and labels for the meta-training set\n",
        "    X, labels = meta_data\n",
        "\n",
        "    # Convert labels to a pandas Series\n",
        "    labels_series = pd.Series(labels)\n",
        "\n",
        "    # Randomly sample a meta-batch\n",
        "    sampled_indices = random.sample(range(len(X)), batch_size)\n",
        "    sampled_X = X.iloc[sampled_indices]\n",
        "    sampled_labels = labels.iloc[sampled_indices]\n",
        "\n",
        "    return sampled_X, sampled_labels"
      ],
      "metadata": {
        "id": "gim1wJwWrBdH"
      },
      "execution_count": null,
      "outputs": []
    },
    {
      "cell_type": "code",
      "source": [
        "# Meta-training loop\n",
        "for meta_iteration in range(num_meta_iterations):\n",
        "    for meta_batch in range(num_meta_batches):\n",
        "        # Sample a random meta-batch from the meta-training set\n",
        "        support_set = sample_meta_batch(meta_train_data)\n",
        "        query_set = sample_meta_batch(meta_train_data)\n",
        "\n",
        "        # Perform a meta-training step\n",
        "        loss, accuracy = maml_train_step(maml_model, support_set, query_set)\n",
        "\n",
        "        print(f'Meta-Iteration: {meta_iteration + 1}, Meta-Batch: {meta_batch + 1}, Loss: {loss:.4f}, Accuracy: {accuracy:.4f}')"
      ],
      "metadata": {
        "colab": {
          "base_uri": "https://localhost:8080/",
          "height": 390
        },
        "id": "JFAVfwpErm8d",
        "outputId": "d7094794-3c1d-454b-fdd8-d73a7812442d"
      },
      "execution_count": null,
      "outputs": [
        {
          "output_type": "error",
          "ename": "ValueError",
          "evalue": "Data must be 1-dimensional",
          "traceback": [
            "\u001b[0;31m---------------------------------------------------------------------------\u001b[0m",
            "\u001b[0;31mValueError\u001b[0m                                Traceback (most recent call last)",
            "\u001b[0;32m<ipython-input-54-0e49cf81fcbc>\u001b[0m in \u001b[0;36m<cell line: 2>\u001b[0;34m()\u001b[0m\n\u001b[1;32m      3\u001b[0m     \u001b[0;32mfor\u001b[0m \u001b[0mmeta_batch\u001b[0m \u001b[0;32min\u001b[0m \u001b[0mrange\u001b[0m\u001b[0;34m(\u001b[0m\u001b[0mnum_meta_batches\u001b[0m\u001b[0;34m)\u001b[0m\u001b[0;34m:\u001b[0m\u001b[0;34m\u001b[0m\u001b[0;34m\u001b[0m\u001b[0m\n\u001b[1;32m      4\u001b[0m         \u001b[0;31m# Sample a random meta-batch from the meta-training set\u001b[0m\u001b[0;34m\u001b[0m\u001b[0;34m\u001b[0m\u001b[0m\n\u001b[0;32m----> 5\u001b[0;31m         \u001b[0msupport_set\u001b[0m \u001b[0;34m=\u001b[0m \u001b[0msample_meta_batch\u001b[0m\u001b[0;34m(\u001b[0m\u001b[0mmeta_train_data\u001b[0m\u001b[0;34m)\u001b[0m\u001b[0;34m\u001b[0m\u001b[0;34m\u001b[0m\u001b[0m\n\u001b[0m\u001b[1;32m      6\u001b[0m         \u001b[0mquery_set\u001b[0m \u001b[0;34m=\u001b[0m \u001b[0msample_meta_batch\u001b[0m\u001b[0;34m(\u001b[0m\u001b[0mmeta_train_data\u001b[0m\u001b[0;34m)\u001b[0m\u001b[0;34m\u001b[0m\u001b[0;34m\u001b[0m\u001b[0m\n\u001b[1;32m      7\u001b[0m \u001b[0;34m\u001b[0m\u001b[0m\n",
            "\u001b[0;32m<ipython-input-53-9aa2b0c3612b>\u001b[0m in \u001b[0;36msample_meta_batch\u001b[0;34m(meta_data, batch_size)\u001b[0m\n\u001b[1;32m      6\u001b[0m \u001b[0;34m\u001b[0m\u001b[0m\n\u001b[1;32m      7\u001b[0m     \u001b[0;31m# Convert labels to a pandas Series\u001b[0m\u001b[0;34m\u001b[0m\u001b[0;34m\u001b[0m\u001b[0m\n\u001b[0;32m----> 8\u001b[0;31m     \u001b[0mlabels_series\u001b[0m \u001b[0;34m=\u001b[0m \u001b[0mpd\u001b[0m\u001b[0;34m.\u001b[0m\u001b[0mSeries\u001b[0m\u001b[0;34m(\u001b[0m\u001b[0mlabels\u001b[0m\u001b[0;34m)\u001b[0m\u001b[0;34m\u001b[0m\u001b[0;34m\u001b[0m\u001b[0m\n\u001b[0m\u001b[1;32m      9\u001b[0m \u001b[0;34m\u001b[0m\u001b[0m\n\u001b[1;32m     10\u001b[0m     \u001b[0;31m# Randomly sample a meta-batch\u001b[0m\u001b[0;34m\u001b[0m\u001b[0;34m\u001b[0m\u001b[0m\n",
            "\u001b[0;32m/usr/local/lib/python3.10/dist-packages/pandas/core/series.py\u001b[0m in \u001b[0;36m__init__\u001b[0;34m(self, data, index, dtype, name, copy, fastpath)\u001b[0m\n\u001b[1;32m    468\u001b[0m                     \u001b[0mdata\u001b[0m \u001b[0;34m=\u001b[0m \u001b[0mdata\u001b[0m\u001b[0;34m.\u001b[0m\u001b[0mcopy\u001b[0m\u001b[0;34m(\u001b[0m\u001b[0;34m)\u001b[0m\u001b[0;34m\u001b[0m\u001b[0;34m\u001b[0m\u001b[0m\n\u001b[1;32m    469\u001b[0m             \u001b[0;32melse\u001b[0m\u001b[0;34m:\u001b[0m\u001b[0;34m\u001b[0m\u001b[0;34m\u001b[0m\u001b[0m\n\u001b[0;32m--> 470\u001b[0;31m                 \u001b[0mdata\u001b[0m \u001b[0;34m=\u001b[0m \u001b[0msanitize_array\u001b[0m\u001b[0;34m(\u001b[0m\u001b[0mdata\u001b[0m\u001b[0;34m,\u001b[0m \u001b[0mindex\u001b[0m\u001b[0;34m,\u001b[0m \u001b[0mdtype\u001b[0m\u001b[0;34m,\u001b[0m \u001b[0mcopy\u001b[0m\u001b[0;34m)\u001b[0m\u001b[0;34m\u001b[0m\u001b[0;34m\u001b[0m\u001b[0m\n\u001b[0m\u001b[1;32m    471\u001b[0m \u001b[0;34m\u001b[0m\u001b[0m\n\u001b[1;32m    472\u001b[0m                 \u001b[0mmanager\u001b[0m \u001b[0;34m=\u001b[0m \u001b[0mget_option\u001b[0m\u001b[0;34m(\u001b[0m\u001b[0;34m\"mode.data_manager\"\u001b[0m\u001b[0;34m)\u001b[0m\u001b[0;34m\u001b[0m\u001b[0;34m\u001b[0m\u001b[0m\n",
            "\u001b[0;32m/usr/local/lib/python3.10/dist-packages/pandas/core/construction.py\u001b[0m in \u001b[0;36msanitize_array\u001b[0;34m(data, index, dtype, copy, raise_cast_failure, allow_2d)\u001b[0m\n\u001b[1;32m    645\u001b[0m                 \u001b[0msubarr\u001b[0m \u001b[0;34m=\u001b[0m \u001b[0mmaybe_infer_to_datetimelike\u001b[0m\u001b[0;34m(\u001b[0m\u001b[0msubarr\u001b[0m\u001b[0;34m)\u001b[0m\u001b[0;34m\u001b[0m\u001b[0;34m\u001b[0m\u001b[0m\n\u001b[1;32m    646\u001b[0m \u001b[0;34m\u001b[0m\u001b[0m\n\u001b[0;32m--> 647\u001b[0;31m     \u001b[0msubarr\u001b[0m \u001b[0;34m=\u001b[0m \u001b[0m_sanitize_ndim\u001b[0m\u001b[0;34m(\u001b[0m\u001b[0msubarr\u001b[0m\u001b[0;34m,\u001b[0m \u001b[0mdata\u001b[0m\u001b[0;34m,\u001b[0m \u001b[0mdtype\u001b[0m\u001b[0;34m,\u001b[0m \u001b[0mindex\u001b[0m\u001b[0;34m,\u001b[0m \u001b[0mallow_2d\u001b[0m\u001b[0;34m=\u001b[0m\u001b[0mallow_2d\u001b[0m\u001b[0;34m)\u001b[0m\u001b[0;34m\u001b[0m\u001b[0;34m\u001b[0m\u001b[0m\n\u001b[0m\u001b[1;32m    648\u001b[0m \u001b[0;34m\u001b[0m\u001b[0m\n\u001b[1;32m    649\u001b[0m     \u001b[0;32mif\u001b[0m \u001b[0misinstance\u001b[0m\u001b[0;34m(\u001b[0m\u001b[0msubarr\u001b[0m\u001b[0;34m,\u001b[0m \u001b[0mnp\u001b[0m\u001b[0;34m.\u001b[0m\u001b[0mndarray\u001b[0m\u001b[0;34m)\u001b[0m\u001b[0;34m:\u001b[0m\u001b[0;34m\u001b[0m\u001b[0;34m\u001b[0m\u001b[0m\n",
            "\u001b[0;32m/usr/local/lib/python3.10/dist-packages/pandas/core/construction.py\u001b[0m in \u001b[0;36m_sanitize_ndim\u001b[0;34m(result, data, dtype, index, allow_2d)\u001b[0m\n\u001b[1;32m    696\u001b[0m             \u001b[0;32mif\u001b[0m \u001b[0mallow_2d\u001b[0m\u001b[0;34m:\u001b[0m\u001b[0;34m\u001b[0m\u001b[0;34m\u001b[0m\u001b[0m\n\u001b[1;32m    697\u001b[0m                 \u001b[0;32mreturn\u001b[0m \u001b[0mresult\u001b[0m\u001b[0;34m\u001b[0m\u001b[0;34m\u001b[0m\u001b[0m\n\u001b[0;32m--> 698\u001b[0;31m             \u001b[0;32mraise\u001b[0m \u001b[0mValueError\u001b[0m\u001b[0;34m(\u001b[0m\u001b[0;34m\"Data must be 1-dimensional\"\u001b[0m\u001b[0;34m)\u001b[0m\u001b[0;34m\u001b[0m\u001b[0;34m\u001b[0m\u001b[0m\n\u001b[0m\u001b[1;32m    699\u001b[0m         \u001b[0;32mif\u001b[0m \u001b[0mis_object_dtype\u001b[0m\u001b[0;34m(\u001b[0m\u001b[0mdtype\u001b[0m\u001b[0;34m)\u001b[0m \u001b[0;32mand\u001b[0m \u001b[0misinstance\u001b[0m\u001b[0;34m(\u001b[0m\u001b[0mdtype\u001b[0m\u001b[0;34m,\u001b[0m \u001b[0mExtensionDtype\u001b[0m\u001b[0;34m)\u001b[0m\u001b[0;34m:\u001b[0m\u001b[0;34m\u001b[0m\u001b[0;34m\u001b[0m\u001b[0m\n\u001b[1;32m    700\u001b[0m             \u001b[0;31m# i.e. PandasDtype(\"O\")\u001b[0m\u001b[0;34m\u001b[0m\u001b[0;34m\u001b[0m\u001b[0m\n",
            "\u001b[0;31mValueError\u001b[0m: Data must be 1-dimensional"
          ]
        }
      ]
    },
    {
      "cell_type": "markdown",
      "source": [
        "# Metric Learning"
      ],
      "metadata": {
        "id": "sz6ySbFaZC_y"
      }
    },
    {
      "cell_type": "code",
      "source": [
        "import tensorflow as tf\n",
        "from tensorflow.keras import layers, models"
      ],
      "metadata": {
        "id": "0hfcqzKEZKxS"
      },
      "execution_count": null,
      "outputs": []
    },
    {
      "cell_type": "code",
      "source": [
        "# Define input layer for 51 features\n",
        "inputs = layers.Input(shape=(51,))"
      ],
      "metadata": {
        "id": "nM5E6tD0ZNpc"
      },
      "execution_count": null,
      "outputs": []
    },
    {
      "cell_type": "code",
      "source": [
        "# Hidden layers with Leaky ReLU activation\n",
        "x = layers.Dense(128, activation=\"relu\")(inputs)\n",
        "x = layers.Dense(64, activation=\"relu\")(x)\n",
        "\n",
        "# Embedding layer for metric learning\n",
        "embeddings = layers.Dense(32)(x)  # Adjust embedding dimension as needed\n",
        "\n",
        "# Output layer for classification\n",
        "outputs = layers.Dense(num_classes, activation=\"softmax\")(embeddings)\n",
        "\n",
        "# Define model\n",
        "model = models.Model(inputs=inputs, outputs=outputs)\n",
        "\n",
        "# Loss function using cross-entropy\n",
        "loss_fn = tf.keras.losses.SparseCategoricalCrossentropy(from_logits=True)\n",
        "\n",
        "# Optimizer\n",
        "optimizer = tf.keras.optimizers.Adam(learning_rate=0.001)"
      ],
      "metadata": {
        "id": "0G-H5DKYZWiM"
      },
      "execution_count": null,
      "outputs": []
    },
    {
      "cell_type": "code",
      "source": [
        "# Compile model\n",
        "model.compile(loss=loss_fn, optimizer=optimizer, metrics=[\"accuracy\"])"
      ],
      "metadata": {
        "id": "ZU0JhKpfZYpz"
      },
      "execution_count": null,
      "outputs": []
    },
    {
      "cell_type": "code",
      "source": [
        "# Train the model\n",
        "model.fit(X_train, y_train_encoded, epochs=10, batch_size=32)"
      ],
      "metadata": {
        "colab": {
          "base_uri": "https://localhost:8080/"
        },
        "id": "SyKwyszHZZ2m",
        "outputId": "a16a5747-3de4-462d-bab7-2ee76ce2b4b7"
      },
      "execution_count": null,
      "outputs": [
        {
          "output_type": "stream",
          "name": "stdout",
          "text": [
            "Epoch 1/10\n"
          ]
        },
        {
          "output_type": "stream",
          "name": "stderr",
          "text": [
            "/usr/local/lib/python3.10/dist-packages/keras/src/backend.py:5727: UserWarning: \"`sparse_categorical_crossentropy` received `from_logits=True`, but the `output` argument was produced by a Softmax activation and thus does not represent logits. Was this intended?\n",
            "  output, from_logits = _get_logits(\n"
          ]
        },
        {
          "output_type": "stream",
          "name": "stdout",
          "text": [
            "30/30 [==============================] - 1s 2ms/step - loss: 3.1495 - accuracy: 0.0852\n",
            "Epoch 2/10\n",
            "30/30 [==============================] - 0s 2ms/step - loss: 2.9192 - accuracy: 0.2292\n",
            "Epoch 3/10\n",
            "30/30 [==============================] - 0s 2ms/step - loss: 2.5630 - accuracy: 0.3575\n",
            "Epoch 4/10\n",
            "30/30 [==============================] - 0s 2ms/step - loss: 2.1347 - accuracy: 0.4395\n",
            "Epoch 5/10\n",
            "30/30 [==============================] - 0s 2ms/step - loss: 1.7637 - accuracy: 0.5037\n",
            "Epoch 6/10\n",
            "30/30 [==============================] - 0s 2ms/step - loss: 1.4800 - accuracy: 0.6172\n",
            "Epoch 7/10\n",
            "30/30 [==============================] - 0s 2ms/step - loss: 1.2705 - accuracy: 0.6467\n",
            "Epoch 8/10\n",
            "30/30 [==============================] - 0s 2ms/step - loss: 1.0892 - accuracy: 0.7077\n",
            "Epoch 9/10\n",
            "30/30 [==============================] - 0s 2ms/step - loss: 0.9546 - accuracy: 0.7455\n",
            "Epoch 10/10\n",
            "30/30 [==============================] - 0s 2ms/step - loss: 0.8560 - accuracy: 0.7550\n"
          ]
        },
        {
          "output_type": "execute_result",
          "data": {
            "text/plain": [
              "<keras.src.callbacks.History at 0x7917902127d0>"
            ]
          },
          "metadata": {},
          "execution_count": 23
        }
      ]
    },
    {
      "cell_type": "code",
      "source": [
        "# Evaluate the model\n",
        "model.evaluate(X_valid, y_valid_encoded)"
      ],
      "metadata": {
        "colab": {
          "base_uri": "https://localhost:8080/"
        },
        "id": "2GwZnnHlZbin",
        "outputId": "fdec78f3-a27b-4435-c525-979b423fd4fc"
      },
      "execution_count": null,
      "outputs": [
        {
          "output_type": "stream",
          "name": "stdout",
          "text": [
            "\r1/8 [==>...........................] - ETA: 2s - loss: 0.9889 - accuracy: 0.6562"
          ]
        },
        {
          "output_type": "stream",
          "name": "stderr",
          "text": [
            "/usr/local/lib/python3.10/dist-packages/keras/src/backend.py:5727: UserWarning: \"`sparse_categorical_crossentropy` received `from_logits=True`, but the `output` argument was produced by a Softmax activation and thus does not represent logits. Was this intended?\n",
            "  output, from_logits = _get_logits(\n"
          ]
        },
        {
          "output_type": "stream",
          "name": "stdout",
          "text": [
            "\b\b\b\b\b\b\b\b\b\b\b\b\b\b\b\b\b\b\b\b\b\b\b\b\b\b\b\b\b\b\b\b\b\b\b\b\b\b\b\b\b\b\b\b\b\b\b\b\b\b\b\b\b\b\b\b\b\b\b\b\b\b\b\b\b\b\b\b\b\b\b\b\b\b\b\b\b\b\b\b\r8/8 [==============================] - 0s 6ms/step - loss: 0.8941 - accuracy: 0.7185\n"
          ]
        },
        {
          "output_type": "execute_result",
          "data": {
            "text/plain": [
              "[0.894101619720459, 0.7184873819351196]"
            ]
          },
          "metadata": {},
          "execution_count": 24
        }
      ]
    },
    {
      "cell_type": "code",
      "source": [
        "# Extract embeddings for further analysis\n",
        "pose_embeddings = model.predict(X_valid)"
      ],
      "metadata": {
        "colab": {
          "base_uri": "https://localhost:8080/"
        },
        "id": "PDr8NM7lZHDE",
        "outputId": "f2eced83-dce0-4ade-80ef-73d4e19170df"
      },
      "execution_count": null,
      "outputs": [
        {
          "output_type": "stream",
          "name": "stdout",
          "text": [
            "8/8 [==============================] - 0s 6ms/step\n"
          ]
        }
      ]
    },
    {
      "cell_type": "code",
      "source": [
        "# Get predictions from the trained model\n",
        "y_pred = model.predict(X_valid)\n",
        "\n",
        "# Convert predictions to class labels (e.g., using argmax)\n",
        "y_pred_labels = tf.math.argmax(y_pred, axis=1)\n",
        "\n",
        "# Calculate the confusion matrix\n",
        "confusion_matrix = tf.math.confusion_matrix(y_valid_encoded, y_pred_labels)\n",
        "\n",
        "# Print or visualize the confusion matrix\n",
        "print(confusion_matrix.numpy())  # Or use libraries like matplotlib for visualization\n"
      ],
      "metadata": {
        "colab": {
          "base_uri": "https://localhost:8080/"
        },
        "id": "IpI3P543bMl9",
        "outputId": "78310145-b459-4bb4-dbc0-271d30715825"
      },
      "execution_count": null,
      "outputs": [
        {
          "output_type": "stream",
          "name": "stdout",
          "text": [
            "8/8 [==============================] - 0s 3ms/step\n",
            "[[ 2  0  0  0  0  0  0  0  0  0  0  0  0  0  1  0  0  0  0  0  0  0  0  0\n",
            "   0]\n",
            " [ 0  9  0  0  0  0  0  0  0  0  0  0  0  0  0  0  0  0  0  0  1  0  0  0\n",
            "   0]\n",
            " [ 1  0  6  0  0  0  0  0  0  0  0  0  0  0  0  0  0  0  0  0  1  0  0  1\n",
            "   0]\n",
            " [ 0  0  0  0  0  0  0  0  0  5  0  0  0  0  0  1  0  0  0  0  0  0  0  0\n",
            "   0]\n",
            " [ 0  0  0  0 12  0  0  0  0  0  0  0  0  0  0  0  0  0  0  0  0  0  0  0\n",
            "   0]\n",
            " [ 0  0  0  0  0  0  0  0  0  0  0  0  1  1  0  0  0  0  0  0  0  1  0  0\n",
            "   0]\n",
            " [ 0  0  0  0  0  0 13  0  1  0  0  0  0  0  0  4  0  0  0  0  0  0  0  0\n",
            "   0]\n",
            " [ 0  0  0  0  0  1  0 11  0  0  0  0  0  0  0  0  0  0  0  0  0  0  0  0\n",
            "   0]\n",
            " [ 0  0  0  0  0  0  8  0  0  0  2  1  0  0  0  0  0  0  0  0  0  0  0  0\n",
            "   0]\n",
            " [ 0  0  0  0  0  0  0  0  0  6  0  0  0  0  0  0  0  0  0  0  0  0  0  0\n",
            "   0]\n",
            " [ 0  0  0  0  0  0  2  0  0  0  3  4  0  0  0  0  0  0  0  0  0  0  0  0\n",
            "   0]\n",
            " [ 0  0  0  0  0  0  0  0  0  0  0  6  0  0  0  0  0  0  0  0  0  0  0  0\n",
            "   0]\n",
            " [ 0  0  0  0  0  0  0  0  0  0  0  0 12  0  0  0  0  0  0  0  0  0  0  0\n",
            "   0]\n",
            " [ 1  0  0  0  0  0  0  0  0  0  0  0  1 10  0  0  0  0  0  0  0  0  0  0\n",
            "   0]\n",
            " [ 0  0  0  0  0  0  0  0  0  0  0  0  0  0 13  0  0  0  0  0  0  0  0  0\n",
            "   0]\n",
            " [ 0  0  0  0  0  0  0  0  0  0  0  1  0  0  0  9  0  0  0  0  0  0  0  0\n",
            "   0]\n",
            " [ 0  0  0  0  0  0  0  0  0  0  0  0  0  0  0  1 10  0  0  0  0  0  0  0\n",
            "   0]\n",
            " [ 0  1  0  0  0  0  0  0  0  0  0  0  0  0  0  0  1  0  0  0  0  0  0  0\n",
            "   1]\n",
            " [ 0  0  0  0  1  0  0  0  0  0  0  0  0  0  0  0  0  0 10  0  0  0  0  0\n",
            "   0]\n",
            " [ 0  1  0  0  0  0  0  0  0  0  0  0  0  0  0  0  0  0  0  1  0  0  0  0\n",
            "   8]\n",
            " [ 0  0  0  0  0  0  0  0  0  0  0  0  0  0  0  0  0  0  0  0 10  0  0  0\n",
            "   0]\n",
            " [ 0  0  0  0  0  0  0  0  0  0  0  3  0  0  0  0  0  0  0  0  2  7  0  1\n",
            "   0]\n",
            " [ 0  4  0  0  0  0  0  0  0  0  0  0  0  0  0  0  0  0  0  0  1  0  2  0\n",
            "   0]\n",
            " [ 0  0  0  0  0  0  0  0  0  0  0  0  0  0  0  0  0  0  0  0  0  0  0 10\n",
            "   0]\n",
            " [ 0  0  0  0  0  0  0  0  0  0  0  0  0  0  0  1  0  0  0  0  1  0  0  0\n",
            "   9]]\n"
          ]
        }
      ]
    }
  ],
  "metadata": {
    "colab": {
      "provenance": []
    },
    "kernelspec": {
      "display_name": "Python 3",
      "name": "python3"
    },
    "language_info": {
      "name": "python"
    }
  },
  "nbformat": 4,
  "nbformat_minor": 0
}